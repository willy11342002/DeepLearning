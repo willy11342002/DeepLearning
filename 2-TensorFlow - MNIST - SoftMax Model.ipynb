{
 "cells": [
  {
   "cell_type": "markdown",
   "metadata": {},
   "source": [
    "# TensorFlow 邏輯回歸網路 手寫數字分類\n",
    "---"
   ]
  },
  {
   "cell_type": "markdown",
   "metadata": {},
   "source": [
    "## 目標：\n",
    "* 了解圖像資料處理步驟\n",
    "* 建立tensorflow softmax regression model\n",
    "* 訓練model並計算出準確度"
   ]
  },
  {
   "cell_type": "markdown",
   "metadata": {},
   "source": [
    "# 索引\n",
    "## [1 圖像資料預處理](#1.-圖像資料預處理)   \n",
    "[1.1 讀取標籤及位置](#1.1-讀取標籤及位置)   \n",
    "[1.2 資料檢查](#1.2-資料檢查)   \n",
    "* [1.2.1 檢查資料是否平衡](#1.2.1-檢查資料是否平衡)\n",
    "* [1.2.2 檢查資料內容](#1.2.2-檢查資料內容)   \n",
    "\n",
    "[1.3 將資料切成 train 70%, val 10%, test 20%](#1.3-將資料分成三等份)   \n",
    "[1.4 讀取及轉換資料](#1.4-讀取及轉換資料)   \n",
    "[1.5 目標變數轉換](#1.5-目標變數轉換)\n",
    "## [2 模型建置](#2.-模型建置)   \n",
    "[2.1 推測](#2.1-推測)  \n",
    "[2.2 誤差](#2.2-誤差)  \n",
    "[2.3 訓練](#2.3-訓練)  \n",
    "[2.4 評估](#2.4-評估)  \n",
    "[2.5 小批次梯度下降](#2.5-小批次梯度下降)  \n",
    "[2.6 模型訓練](#2.6-模型訓練)  \n",
    "## [3 使用TensorBoard視覺化工具](#3.-使用TensorBoard視覺化工具)   \n",
    "\n"
   ]
  },
  {
   "cell_type": "code",
   "execution_count": 1,
   "metadata": {},
   "outputs": [],
   "source": [
    "import tensorflow as tf\n",
    "import numpy as np\n",
    "import pandas as pd\n",
    "import matplotlib.pyplot as plt\n",
    "%matplotlib inline\n",
    "\n",
    "import os, cv2"
   ]
  },
  {
   "cell_type": "markdown",
   "metadata": {},
   "source": [
    "## 1. 圖像資料預處理\n",
    "### 1.1 讀取標籤及位置\n",
    "當我們面對的是圖像資料，或者其他非結構化的資料時，由於其特性的關係，通常並不是直接使用資料表的形式儲存。  \n",
    "所以我們可能會依照不同的類別，存放在不同的資料夾中（也就是我們用資料夾來分類）。  \n",
    "在這種情況下，我們需要熟悉如何一次掃描整個資料夾內的子資料夾，並抓取我們需要的資訊。"
   ]
  },
  {
   "cell_type": "code",
   "execution_count": 2,
   "metadata": {},
   "outputs": [],
   "source": [
    "def filePathsGen(rootPath):\n",
    "    '''獲取該輸入目錄底下的資料，並將其子目錄作為其類別標籤（適用於子目錄名稱僅含有一個位元字）'''\n",
    "    paths=[]\n",
    "    labels=[]\n",
    "    \n",
    "    for dirPath,dirNames,fileNames in os.walk(rootPath):\n",
    "        for fileName in fileNames:\n",
    "            \n",
    "            # 將完整目錄存在 paths 變數中\n",
    "            paths.append( os.path.join(dirPath,fileName) )\n",
    "            \n",
    "            # 將所在目錄存在 labels 變數中\n",
    "            if os.name == 'nt':\n",
    "                label = dirPath.split('\\\\')[-1]\n",
    "            else:\n",
    "                label = dirPath.split('/')[-1]\n",
    "            labels.append( label )\n",
    "            \n",
    "    # 回傳時將資料轉為 numpy array 這是python很好用的函式庫，速度快，而且大多數函式庫都依賴它\n",
    "    return np.array(labels), np.array(paths)"
   ]
  },
  {
   "cell_type": "code",
   "execution_count": 3,
   "metadata": {
    "scrolled": true
   },
   "outputs": [],
   "source": [
    "labels, paths = filePathsGen('datasets/mnist')"
   ]
  },
  {
   "cell_type": "markdown",
   "metadata": {},
   "source": [
    "### 1.2 資料檢查\n",
    "#### 1.2.1 檢查資料是否平衡\n",
    "每當我們拿到新的資料時，一定要做這個步驟。   \n",
    "即使每分資料或許不同，但是檢查是否平衡、缺值等，都是必要的。"
   ]
  },
  {
   "cell_type": "code",
   "execution_count": 4,
   "metadata": {
    "scrolled": true
   },
   "outputs": [
    {
     "data": {
      "text/plain": [
       "<matplotlib.axes._subplots.AxesSubplot at 0x1d561fd01d0>"
      ]
     },
     "execution_count": 4,
     "metadata": {},
     "output_type": "execute_result"
    },
    {
     "data": {
      "image/png": "[encoded data removed]",
      "text/plain": [
       "<Figure size 432x288 with 1 Axes>"
      ]
     },
     "metadata": {},
     "output_type": "display_data"
    }
   ],
   "source": [
    "# 檢查資料是否平衡，先將剛剛獲得的 paths, labels 合併在一個 DataFrame 中\n",
    "df = pd.concat( [pd.Series(labels), pd.Series(paths)], axis=1 )\n",
    "df.columns = ['label', 'path'] # 給資料欄位名稱\n",
    "df = df.sample(frac=1) # 將資料打亂\n",
    "df = df.reset_index().drop('index', axis=1) # 打亂後重設 index\n",
    "\n",
    "# 藉著 DataFrame 的 groupby 功能, 我們可以快速取得每一個類別的筆數\n",
    "dfCount = df.groupby('label').count()\n",
    "\n",
    "# 試著讓圖示符合我們真正想要看到的內容\n",
    "dfCount.rename( columns={'path':'amount of figures'}, inplace=True )\n",
    "\n",
    "# 指定圖表樣式為條狀圖, rot是底下的標籤顯示方向（可有可無）\n",
    "dfCount.plot(kind='bar', rot=0)"
   ]
  },
  {
   "cell_type": "markdown",
   "metadata": {},
   "source": [
    "#### 1.2.2 檢查資料內容\n",
    "資料檢查第二步，我們隨便挑個幾張圖出來看，這是要檢查我們的資料是否符合我們的期待。  \n",
    "由於有的時候資料並不是我們自己蒐集的，又或者我們自己蒐集時沒有檢查，所以這個步驟千萬不要省。  \n",
    "\n",
    "由於上面我們已經順手將`DataFrame`打亂了。  \n",
    "所以我們就不用特地隨機抽取圖片，直接看前5張圖。"
   ]
  },
  {
   "cell_type": "code",
   "execution_count": 5,
   "metadata": {},
   "outputs": [
    {
     "data": {
      "image/png": "[encoded data removed]",
      "text/plain": [
       "<Figure size 432x288 with 5 Axes>"
      ]
     },
     "metadata": {},
     "output_type": "display_data"
    }
   ],
   "source": [
    "# 要讓繪圖區分割橫向，就需要設定子圖\n",
    "fig, axes = plt.subplots(1, 5) # 設定圖片分配為 1*5\n",
    "\n",
    "for i in range(5):\n",
    "    # 用 opencv 來讀取圖片\n",
    "    img = cv2.imread(df.path[i])\n",
    "    \n",
    "    # 在相應的子圖區域繪圖\n",
    "    axes[i].imshow(img)\n",
    "    \n",
    "# 貌似新版 jupyter notebook 已經不需要自己打上 show()方法\n",
    "# 但是養成好習慣，在想要繪圖的時候還是加上。\n",
    "plt.show()"
   ]
  },
  {
   "cell_type": "markdown",
   "metadata": {},
   "source": [
    "### 1.3 將資料分成三等份\n",
    "這邊由於我們是平衡的資料，所以事實上我們是可以直接切的（剛剛也已經打亂）。  \n",
    "但是如果是不平衡資料的話，還需要另外處理。"
   ]
  },
  {
   "cell_type": "code",
   "execution_count": 6,
   "metadata": {},
   "outputs": [],
   "source": [
    "# 取出 path, label 存成 X 跟 y\n",
    "# 記得存成 numpy array 這樣資料就不含有原本的 index\n",
    "X = np.array(df.path)\n",
    "y = np.array(df.label).astype(np.int8)"
   ]
  },
  {
   "cell_type": "code",
   "execution_count": 7,
   "metadata": {},
   "outputs": [],
   "source": [
    "def sliceDatasets(X, y):\n",
    "    # 設定 0.7*0.1*0.2 的 index 範圍\n",
    "    train_idx = range( 0, int(0.7*len(X)) )\n",
    "    val_idx = range( int(0.7*len(X)), int(0.8*len(X)) )\n",
    "    test_idx = range( int(0.78*len(X)), len(X)-1 )\n",
    "    \n",
    "    # 將 X, y 切成我們需要的三分 \n",
    "    X_train = X[train_idx]\n",
    "    X_val = X[val_idx]\n",
    "    X_test = X[test_idx]\n",
    "    y_train = y[train_idx]\n",
    "    y_val = y[val_idx]\n",
    "    y_test = y[test_idx]\n",
    "    \n",
    "    return X_train, X_val, X_test, y_train, y_val, y_test"
   ]
  },
  {
   "cell_type": "code",
   "execution_count": 8,
   "metadata": {
    "scrolled": true
   },
   "outputs": [
    {
     "name": "stdout",
     "output_type": "stream",
     "text": [
      "(42000,) (42000,)\n",
      "(6000,) (6000,)\n",
      "(13199,) (13199,)\n"
     ]
    }
   ],
   "source": [
    "X_train, X_val, X_test, y_train, y_val, y_test = sliceDatasets(X, y)\n",
    "\n",
    "print(X_train.shape, y_train.shape)\n",
    "print(X_val.shape, y_val.shape)\n",
    "print(X_test.shape, y_test.shape)"
   ]
  },
  {
   "cell_type": "markdown",
   "metadata": {},
   "source": [
    "### 1.4 讀取及轉換資料\n",
    "由於我們的資料是圖片，通常比較占用記憶體，會選擇在前面都處理好後才真的讀進記憶體內。   \n",
    "這在圖片數量很多、圖片很大甚至影片的時候會非常有感。"
   ]
  },
  {
   "cell_type": "code",
   "execution_count": 9,
   "metadata": {},
   "outputs": [],
   "source": [
    "def dataLoad(X):\n",
    "    '''此方法透過輸入指定的目錄向量，讀取目錄的圖檔。'''\n",
    "    \n",
    "    # 先創建 numpy array 這種做法需要先設定大小，但是效能比起 python 原生 list 快非常多\n",
    "    x=np.zeros( (len(X), 28, 28) )\n",
    "    \n",
    "    # 逐筆讀取資料後取代本來創建的 numpy array\n",
    "    for i in range(len(X)):\n",
    "        # 在 imread() 方法內帶入參數 flag=0 表示讀取灰階圖片\n",
    "        # 讀取後將數值除255, 這會讓每個數值介於 0~1 之間, 方便我們後續機器做運算\n",
    "        x[i]=cv2.imread(X[i],0)/255 \n",
    "        \n",
    "    return x"
   ]
  },
  {
   "cell_type": "code",
   "execution_count": 10,
   "metadata": {},
   "outputs": [
    {
     "name": "stdout",
     "output_type": "stream",
     "text": [
      "(42000, 28, 28) (6000, 28, 28) (13199, 28, 28)\n"
     ]
    }
   ],
   "source": [
    "# 將剛剛的路徑資料全都讀取成圖片資料\n",
    "X_train = dataLoad(X_train)\n",
    "X_val = dataLoad(X_val)\n",
    "X_test = dataLoad(X_test)\n",
    "\n",
    "print(X_train.shape, X_val.shape, X_test.shape)"
   ]
  },
  {
   "cell_type": "code",
   "execution_count": 11,
   "metadata": {},
   "outputs": [
    {
     "name": "stdout",
     "output_type": "stream",
     "text": [
      "(42000, 784) (6000, 784) (13199, 784)\n"
     ]
    }
   ],
   "source": [
    "# 由於我們目標是使用簡單的 softmax 來實現分類, 因此我們把資料展開, 方便我們建模\n",
    "# 透過 reshape()方法, 將資料從二維的 28x28 轉為一維的 784\n",
    "X_train = X_train.reshape(X_train.shape[0], -1)\n",
    "X_val = X_val.reshape(X_val.shape[0], -1)\n",
    "X_test = X_test.reshape(X_test.shape[0], -1)\n",
    "\n",
    "print(X_train.shape, X_val.shape, X_test.shape)"
   ]
  },
  {
   "cell_type": "markdown",
   "metadata": {},
   "source": [
    "### 1.5 目標變數轉換\n",
    "深度學習最終的輸出, 是需要對應目標變數的。  \n",
    "由於我們最終需要10個節點, 分別代表 0~9 的分類預測, 因此傳進模型的 y 也必須要有 0~9。   \n",
    "如果不想自己定義方法也可以使用套件提供的方法轉成one hot型態。"
   ]
  },
  {
   "cell_type": "code",
   "execution_count": 12,
   "metadata": {},
   "outputs": [],
   "source": [
    "def to_one_hot(data, num_labels=10):\n",
    "    '''此方法用於手寫數字的標籤轉 one hot 型態'''\n",
    "    \n",
    "    # 同樣, 我們先建立全部為零的 numpy array\n",
    "    one_hot = np.zeros( (data.shape[0], num_labels) )\n",
    "    \n",
    "    # 透過 enumerate 可以拿到當前資料的內容跟索引\n",
    "    for i, j in enumerate(data):\n",
    "        # 將指定的索引的第 y 欄改成 1\n",
    "        one_hot[i][j] = 1\n",
    "    return one_hot"
   ]
  },
  {
   "cell_type": "code",
   "execution_count": 13,
   "metadata": {},
   "outputs": [
    {
     "name": "stdout",
     "output_type": "stream",
     "text": [
      "(42000, 10) (6000, 10) (13199, 10)\n"
     ]
    }
   ],
   "source": [
    "y_train = to_one_hot(y_train)\n",
    "y_val = to_one_hot(y_val)\n",
    "y_test = to_one_hot(y_test)\n",
    "\n",
    "print(y_train.shape, y_val.shape, y_test.shape)"
   ]
  },
  {
   "cell_type": "markdown",
   "metadata": {},
   "source": [
    "到這邊，我們已經完成了數據的前處理，複習一下前面做了些什麼：  \n",
    "* 使用`os`讀取了指定目錄以下全部的檔案, 設定了子目錄名稱作為目標標籤\n",
    "* 使用`pandas`檢查了資料的平衡性\n",
    "* 使用`opencv`查看了資料本身\n",
    "* 使用`numpy`切成了三個部分的資料集, 分別是`train 70%`, `validation 10%`, `test 20%`\n",
    "* 使用`opencv`讀取了所有的圖檔, 並轉成灰階, 處理至0~1之間\n",
    "* 使用`numpy`將資料展開成一維\n",
    "* 使用`numpy`將目標做成了one hot格式\n",
    "---"
   ]
  },
  {
   "cell_type": "markdown",
   "metadata": {},
   "source": [
    "## 2. 模型建置\n",
    "完成了數據的處理後, 我們真正能夠進入到建模以及訓練的步驟。  \n",
    "整個建模的過程將會分成以下四個部分：  \n",
    "* *`推測 (inference)`*: 計算輸入的資料, 算出對應不同類別輸出的機率分布\n",
    "* *`誤差 (loss)`*: 計算誤差函數的值, 這邊用交叉嫡作為誤差函數\n",
    "* *`訓練 (training)`*: 計算模型參數的梯度並更新\n",
    "* *`評估 (evaluate)`*: 判斷模型的有效性"
   ]
  },
  {
   "cell_type": "markdown",
   "metadata": {},
   "source": [
    "### 2.1 推測"
   ]
  },
  {
   "cell_type": "code",
   "execution_count": 14,
   "metadata": {},
   "outputs": [],
   "source": [
    "def inference(x):\n",
    "    '''定義推測的步驟, 傳入一筆或多筆資料, 使用softmax計算出其分類標籤'''\n",
    "    \n",
    "    # 定義變數初始化方法, 直接填值為零\n",
    "    init = tf.constant_initializer(value=0)\n",
    "    \n",
    "    # 獲取變數的值, 首個參數指定要拿哪個變數\n",
    "    w = tf.get_variable('w', [784,10], initializer=init)\n",
    "    b = tf.get_variable('b', [10], initializer=init)\n",
    "    \n",
    "    # 產出的公式為 softmax(x*w + b)\n",
    "    output = tf.nn.softmax( tf.matmul(x, w) + b )\n",
    "    \n",
    "    # 紀錄過程\n",
    "    w_hist = tf.summary.histogram('weights', w)\n",
    "    b_hist = tf.summary.histogram('biases', b)\n",
    "    y_hist = tf.summary.histogram('output', output)\n",
    "    \n",
    "    return output"
   ]
  },
  {
   "cell_type": "markdown",
   "metadata": {},
   "source": [
    "### 2.2 誤差"
   ]
  },
  {
   "cell_type": "code",
   "execution_count": 15,
   "metadata": {},
   "outputs": [],
   "source": [
    "def loss(output, y):\n",
    "    '''定義誤差函數計算的步驟, 這邊使用的是交叉嫡'''\n",
    "    \n",
    "    # 計算每一個輸出的誤差, 這時候的誤差shape應該為[batch_size, 10], 也就是每一筆有10個誤差值\n",
    "    dot_product = y * tf.log(output)\n",
    "    \n",
    "    # 沿著方向為 1 的方向降維, 也就是把 d1 維度壓扁, 這時候誤差的shape變為[batch_size, 1]\n",
    "    xentropy = -tf.reduce_sum(dot_product, reduction_indices=1)\n",
    "    \n",
    "    # 沿著方向為 0 的方向降為, 也就是把 d0 維度壓扁, 這時候誤差的shape終於變成[1]\n",
    "    loss = tf.reduce_mean(xentropy)\n",
    "    \n",
    "    return loss"
   ]
  },
  {
   "cell_type": "markdown",
   "metadata": {},
   "source": [
    "### 2.3 訓練"
   ]
  },
  {
   "cell_type": "code",
   "execution_count": 16,
   "metadata": {},
   "outputs": [],
   "source": [
    "def training(cost, global_step, lr):\n",
    "    '''定義訓練的步驟, 用梯度下降法'''\n",
    "    \n",
    "    # 紀錄過程\n",
    "    tf.summary.scalar('cost', cost)\n",
    "    \n",
    "    # 定義訓練的方法, 使用梯度下降法\n",
    "    optimizer = tf.train.GradientDescentOptimizer(lr)\n",
    "    \n",
    "    # 進行誤差最小化任務\n",
    "    train_op = optimizer.minimize(cost, global_step=global_step)\n",
    "    \n",
    "    return train_op"
   ]
  },
  {
   "cell_type": "markdown",
   "metadata": {},
   "source": [
    "### 2.4 評估"
   ]
  },
  {
   "cell_type": "code",
   "execution_count": 17,
   "metadata": {},
   "outputs": [],
   "source": [
    "def evaluate(output, y):\n",
    "    '''定義評估的方式, 輸入標籤以及預測標籤, 輸出準確率'''\n",
    "    \n",
    "    # 找出標籤與預測標籤的最大信心水準, 比較是否相同\n",
    "    correct_prediction = tf.equal( tf.argmax(output, 1), tf.argmax(y, 1) )\n",
    "    \n",
    "    # 沿著 0 維度降維, 算出一個準確率\n",
    "    accuracy = tf.reduce_mean(tf.cast(correct_prediction, tf.float32))\n",
    "    \n",
    "    # 紀錄過程\n",
    "    tf.summary.scalar('validation_error', (1. - accuracy))\n",
    "    \n",
    "    return accuracy"
   ]
  },
  {
   "cell_type": "markdown",
   "metadata": {},
   "source": [
    "### 2.5 小批次梯度下降\n",
    "到這邊其實我們已經完成模型設計的大部分工作了。   \n",
    "但是甚至如果我們使用的是**批次梯度下降**, 也就是整個批次丟進模型訓練的演算法,   \n",
    "那麼我們直接開始就可以, 但是批次梯度下降有著不小的問題, 因此我們還是寫一下簡單的小批次"
   ]
  },
  {
   "cell_type": "code",
   "execution_count": 18,
   "metadata": {},
   "outputs": [],
   "source": [
    "def next_batch(batch_size, data, labels):\n",
    "    '''定義批次輸入的方法'''\n",
    "    \n",
    "    # 獲取索引並打亂\n",
    "    idx=np.arange(0, len(data))\n",
    "    np.random.shuffle(idx)\n",
    "    \n",
    "    # 打亂後只取開頭一個批次的資料量\n",
    "    idx = idx[:batch_size]\n",
    "    \n",
    "    # 取得一個批次數量的data, label並回傳\n",
    "    data_shuffle = data[idx]\n",
    "    labels_shuffle = labels[idx]\n",
    "\n",
    "    return data_shuffle, labels_shuffle"
   ]
  },
  {
   "cell_type": "markdown",
   "metadata": {},
   "source": [
    "### 2.6 模型訓練"
   ]
  },
  {
   "cell_type": "code",
   "execution_count": 19,
   "metadata": {},
   "outputs": [],
   "source": [
    "# 定義模型所需參數\n",
    "lr = 0.01\n",
    "epochs = 500\n",
    "batch_size = 2048\n",
    "display_step = 1"
   ]
  },
  {
   "cell_type": "code",
   "execution_count": 20,
   "metadata": {
    "scrolled": true
   },
   "outputs": [
    {
     "name": "stdout",
     "output_type": "stream",
     "text": [
      "Epoch: 0001 Train Error: 0.509261906147 Validation Error: 0.496333360672\n",
      "Epoch: 0002 Train Error: 0.348666667938 Validation Error: 0.351166665554\n",
      "Epoch: 0003 Train Error: 0.3107380867 Validation Error: 0.307166695595\n",
      "Epoch: 0004 Train Error: 0.262928545475 Validation Error: 0.252166688442\n",
      "Epoch: 0005 Train Error: 0.247904777527 Validation Error: 0.239166676998\n",
      "Epoch: 0006 Train Error: 0.241500020027 Validation Error: 0.234833359718\n",
      "Epoch: 0007 Train Error: 0.225428581238 Validation Error: 0.219166696072\n",
      "Epoch: 0008 Train Error: 0.20526188612 Validation Error: 0.199000000954\n",
      "Epoch: 0009 Train Error: 0.205404758453 Validation Error: 0.199333310127\n",
      "Epoch: 0010 Train Error: 0.202285706997 Validation Error: 0.196833312511\n",
      "Epoch: 0011 Train Error: 0.197857141495 Validation Error: 0.194500029087\n",
      "Epoch: 0012 Train Error: 0.18719047308 Validation Error: 0.181166648865\n",
      "Epoch: 0013 Train Error: 0.193190455437 Validation Error: 0.186500012875\n",
      "Epoch: 0014 Train Error: 0.182904779911 Validation Error: 0.17633330822\n",
      "Epoch: 0015 Train Error: 0.17871427536 Validation Error: 0.172666668892\n",
      "Epoch: 0016 Train Error: 0.177095234394 Validation Error: 0.169666647911\n",
      "Epoch: 0017 Train Error: 0.174785733223 Validation Error: 0.167999982834\n",
      "Epoch: 0018 Train Error: 0.173619031906 Validation Error: 0.167999982834\n",
      "Epoch: 0019 Train Error: 0.16942858696 Validation Error: 0.162500023842\n",
      "Epoch: 0020 Train Error: 0.163095235825 Validation Error: 0.157166659832\n",
      "Epoch: 0021 Train Error: 0.163833320141 Validation Error: 0.155833303928\n",
      "Epoch: 0022 Train Error: 0.164142847061 Validation Error: 0.15649998188\n",
      "Epoch: 0023 Train Error: 0.160904765129 Validation Error: 0.152333319187\n",
      "Epoch: 0024 Train Error: 0.159523785114 Validation Error: 0.153833329678\n",
      "Epoch: 0025 Train Error: 0.156642854214 Validation Error: 0.150333344936\n",
      "Epoch: 0026 Train Error: 0.155833303928 Validation Error: 0.15016669035\n",
      "Epoch: 0027 Train Error: 0.155142843723 Validation Error: 0.148999989033\n",
      "Epoch: 0028 Train Error: 0.154714286327 Validation Error: 0.149666666985\n",
      "Epoch: 0029 Train Error: 0.154785692692 Validation Error: 0.149333357811\n",
      "Epoch: 0030 Train Error: 0.152857124805 Validation Error: 0.146166682243\n",
      "Epoch: 0031 Train Error: 0.154404759407 Validation Error: 0.148500025272\n",
      "Epoch: 0032 Train Error: 0.151571452618 Validation Error: 0.145666658878\n",
      "Epoch: 0033 Train Error: 0.149571418762 Validation Error: 0.143833339214\n",
      "Epoch: 0034 Train Error: 0.149190485477 Validation Error: 0.143666684628\n",
      "Epoch: 0035 Train Error: 0.146976172924 Validation Error: 0.142333328724\n",
      "Epoch: 0036 Train Error: 0.147261917591 Validation Error: 0.141666650772\n",
      "Epoch: 0037 Train Error: 0.146119058132 Validation Error: 0.141166687012\n",
      "Epoch: 0038 Train Error: 0.145023822784 Validation Error: 0.139500021935\n",
      "Epoch: 0039 Train Error: 0.14483332634 Validation Error: 0.139666676521\n",
      "Epoch: 0040 Train Error: 0.14364284277 Validation Error: 0.140333354473\n",
      "Epoch: 0041 Train Error: 0.144714295864 Validation Error: 0.138666689396\n",
      "Epoch: 0042 Train Error: 0.143666684628 Validation Error: 0.139666676521\n",
      "Epoch: 0043 Train Error: 0.143261909485 Validation Error: 0.135833323002\n",
      "Epoch: 0044 Train Error: 0.141261875629 Validation Error: 0.13666665554\n",
      "Epoch: 0045 Train Error: 0.140928566456 Validation Error: 0.13616669178\n",
      "Epoch: 0046 Train Error: 0.139476180077 Validation Error: 0.136500000954\n",
      "Epoch: 0047 Train Error: 0.138809502125 Validation Error: 0.134166657925\n",
      "Epoch: 0048 Train Error: 0.140357136726 Validation Error: 0.136500000954\n",
      "Epoch: 0049 Train Error: 0.137809514999 Validation Error: 0.134833335876\n",
      "Epoch: 0050 Train Error: 0.138214290142 Validation Error: 0.132833361626\n",
      "Epoch: 0051 Train Error: 0.137309551239 Validation Error: 0.131833314896\n",
      "Epoch: 0052 Train Error: 0.1360476017 Validation Error: 0.132833361626\n",
      "Epoch: 0053 Train Error: 0.136761903763 Validation Error: 0.131833314896\n",
      "Epoch: 0054 Train Error: 0.135238111019 Validation Error: 0.131333351135\n",
      "Epoch: 0055 Train Error: 0.135238111019 Validation Error: 0.131166636944\n",
      "Epoch: 0056 Train Error: 0.134809494019 Validation Error: 0.132333338261\n",
      "Epoch: 0057 Train Error: 0.134500026703 Validation Error: 0.131166636944\n",
      "Epoch: 0058 Train Error: 0.133619070053 Validation Error: 0.13083332777\n",
      "Epoch: 0059 Train Error: 0.13347619772 Validation Error: 0.129666686058\n",
      "Epoch: 0060 Train Error: 0.132499992847 Validation Error: 0.129499971867\n",
      "Epoch: 0061 Train Error: 0.132880926132 Validation Error: 0.129499971867\n",
      "Epoch: 0062 Train Error: 0.132714271545 Validation Error: 0.129499971867\n",
      "Epoch: 0063 Train Error: 0.131785690784 Validation Error: 0.128166675568\n",
      "Epoch: 0064 Train Error: 0.132357120514 Validation Error: 0.127499997616\n",
      "Epoch: 0065 Train Error: 0.130999982357 Validation Error: 0.128000020981\n",
      "Epoch: 0066 Train Error: 0.131095230579 Validation Error: 0.128333330154\n",
      "Epoch: 0067 Train Error: 0.131357133389 Validation Error: 0.128666639328\n",
      "Epoch: 0068 Train Error: 0.131214261055 Validation Error: 0.126666665077\n",
      "Epoch: 0069 Train Error: 0.130857169628 Validation Error: 0.128000020981\n",
      "Epoch: 0070 Train Error: 0.129690468311 Validation Error: 0.127666652203\n",
      "Epoch: 0071 Train Error: 0.129166662693 Validation Error: 0.126166641712\n",
      "Epoch: 0072 Train Error: 0.129285693169 Validation Error: 0.127499997616\n",
      "Epoch: 0073 Train Error: 0.129380941391 Validation Error: 0.125833332539\n",
      "Epoch: 0074 Train Error: 0.128428578377 Validation Error: 0.125333309174\n",
      "Epoch: 0075 Train Error: 0.128428578377 Validation Error: 0.124833345413\n",
      "Epoch: 0076 Train Error: 0.128523826599 Validation Error: 0.124833345413\n",
      "Epoch: 0077 Train Error: 0.127428591251 Validation Error: 0.124666690826\n",
      "Epoch: 0078 Train Error: 0.128380954266 Validation Error: 0.125\n",
      "Epoch: 0079 Train Error: 0.127333343029 Validation Error: 0.124333322048\n",
      "Epoch: 0080 Train Error: 0.127499997616 Validation Error: 0.124666690826\n",
      "Epoch: 0081 Train Error: 0.126333355904 Validation Error: 0.123833358288\n",
      "Epoch: 0082 Train Error: 0.126785695553 Validation Error: 0.123166680336\n",
      "Epoch: 0083 Train Error: 0.126380980015 Validation Error: 0.124000012875\n",
      "Epoch: 0084 Train Error: 0.126642882824 Validation Error: 0.123666644096\n",
      "Epoch: 0085 Train Error: 0.126428544521 Validation Error: 0.123333334923\n",
      "Epoch: 0086 Train Error: 0.125666677952 Validation Error: 0.123000025749\n",
      "Epoch: 0087 Train Error: 0.125119030476 Validation Error: 0.121999979019\n",
      "Epoch: 0088 Train Error: 0.124666690826 Validation Error: 0.121999979019\n",
      "Epoch: 0089 Train Error: 0.125452399254 Validation Error: 0.122333347797\n",
      "Epoch: 0090 Train Error: 0.124761879444 Validation Error: 0.120833337307\n",
      "Epoch: 0091 Train Error: 0.124976217747 Validation Error: 0.121833324432\n",
      "Epoch: 0092 Train Error: 0.124666690826 Validation Error: 0.120833337307\n",
      "Epoch: 0093 Train Error: 0.123857140541 Validation Error: 0.121333360672\n",
      "Epoch: 0094 Train Error: 0.123738110065 Validation Error: 0.120166659355\n",
      "Epoch: 0095 Train Error: 0.124333322048 Validation Error: 0.121999979019\n",
      "Epoch: 0096 Train Error: 0.122952401638 Validation Error: 0.119666695595\n",
      "Epoch: 0097 Train Error: 0.123142838478 Validation Error: 0.120166659355\n",
      "Epoch: 0098 Train Error: 0.122833311558 Validation Error: 0.121166646481\n",
      "Epoch: 0099 Train Error: 0.123333334923 Validation Error: 0.119499981403\n",
      "Epoch: 0100 Train Error: 0.122690498829 Validation Error: 0.119666695595\n",
      "Epoch: 0101 Train Error: 0.122214257717 Validation Error: 0.119833350182\n",
      "Epoch: 0102 Train Error: 0.121952354908 Validation Error: 0.119833350182\n",
      "Epoch: 0103 Train Error: 0.122214257717 Validation Error: 0.118666648865\n",
      "Epoch: 0104 Train Error: 0.121214270592 Validation Error: 0.117999970913\n",
      "Epoch: 0105 Train Error: 0.122404754162 Validation Error: 0.119666695595\n",
      "Epoch: 0106 Train Error: 0.121642827988 Validation Error: 0.118333339691\n",
      "Epoch: 0107 Train Error: 0.121190488338 Validation Error: 0.119333326817\n",
      "Epoch: 0108 Train Error: 0.120880961418 Validation Error: 0.117833316326\n",
      "Epoch: 0109 Train Error: 0.121333360672 Validation Error: 0.118499994278\n",
      "Epoch: 0110 Train Error: 0.12066668272 Validation Error: 0.116500020027\n",
      "Epoch: 0111 Train Error: 0.120404779911 Validation Error: 0.116500020027\n",
      "Epoch: 0112 Train Error: 0.120500028133 Validation Error: 0.117666661739\n",
      "Epoch: 0113 Train Error: 0.120142877102 Validation Error: 0.117666661739\n"
     ]
    },
    {
     "name": "stdout",
     "output_type": "stream",
     "text": [
      "Epoch: 0114 Train Error: 0.120595216751 Validation Error: 0.116999983788\n",
      "Epoch: 0115 Train Error: 0.120190501213 Validation Error: 0.117333352566\n",
      "Epoch: 0116 Train Error: 0.119857132435 Validation Error: 0.116833329201\n",
      "Epoch: 0117 Train Error: 0.119595229626 Validation Error: 0.116666674614\n",
      "Epoch: 0118 Train Error: 0.119023799896 Validation Error: 0.116666674614\n",
      "Epoch: 0119 Train Error: 0.119904756546 Validation Error: 0.11533331871\n",
      "Epoch: 0120 Train Error: 0.118476212025 Validation Error: 0.116333305836\n",
      "Epoch: 0121 Train Error: 0.118976175785 Validation Error: 0.115166664124\n",
      "Epoch: 0122 Train Error: 0.119619071484 Validation Error: 0.114499986172\n",
      "Epoch: 0123 Train Error: 0.119023799896 Validation Error: 0.115166664124\n",
      "Epoch: 0124 Train Error: 0.118238091469 Validation Error: 0.115999996662\n",
      "Epoch: 0125 Train Error: 0.118047595024 Validation Error: 0.114333331585\n",
      "Epoch: 0126 Train Error: 0.118047595024 Validation Error: 0.115000009537\n",
      "Epoch: 0127 Train Error: 0.117690503597 Validation Error: 0.114166676998\n",
      "Epoch: 0128 Train Error: 0.117666661739 Validation Error: 0.11333334446\n",
      "Epoch: 0129 Train Error: 0.117047607899 Validation Error: 0.113666653633\n",
      "Epoch: 0130 Train Error: 0.117571413517 Validation Error: 0.113666653633\n",
      "Epoch: 0131 Train Error: 0.116976201534 Validation Error: 0.114166676998\n",
      "Epoch: 0132 Train Error: 0.116928577423 Validation Error: 0.113666653633\n",
      "Epoch: 0133 Train Error: 0.116880953312 Validation Error: 0.114666640759\n",
      "Epoch: 0134 Train Error: 0.117571413517 Validation Error: 0.112999975681\n",
      "Epoch: 0135 Train Error: 0.116428554058 Validation Error: 0.112500011921\n",
      "Epoch: 0136 Train Error: 0.116380929947 Validation Error: 0.112999975681\n",
      "Epoch: 0137 Train Error: 0.116452395916 Validation Error: 0.11333334446\n",
      "Epoch: 0138 Train Error: 0.116142868996 Validation Error: 0.112833321095\n",
      "Epoch: 0139 Train Error: 0.116047620773 Validation Error: 0.113666653633\n",
      "Epoch: 0140 Train Error: 0.116428554058 Validation Error: 0.112666666508\n",
      "Epoch: 0141 Train Error: 0.116666674614 Validation Error: 0.112166643143\n",
      "Epoch: 0142 Train Error: 0.115619063377 Validation Error: 0.112500011921\n",
      "Epoch: 0143 Train Error: 0.115690469742 Validation Error: 0.112833321095\n",
      "Epoch: 0144 Train Error: 0.115880966187 Validation Error: 0.112166643143\n",
      "Epoch: 0145 Train Error: 0.115952372551 Validation Error: 0.112500011921\n",
      "Epoch: 0146 Train Error: 0.115452408791 Validation Error: 0.111833333969\n",
      "Epoch: 0147 Train Error: 0.115285694599 Validation Error: 0.111833333969\n",
      "Epoch: 0148 Train Error: 0.114785730839 Validation Error: 0.110666692257\n",
      "Epoch: 0149 Train Error: 0.11533331871 Validation Error: 0.111166656017\n",
      "Epoch: 0150 Train Error: 0.115595221519 Validation Error: 0.110499978065\n",
      "Epoch: 0151 Train Error: 0.115119040012 Validation Error: 0.111500024796\n",
      "Epoch: 0152 Train Error: 0.114666640759 Validation Error: 0.111500024796\n",
      "Epoch: 0153 Train Error: 0.114499986172 Validation Error: 0.110499978065\n",
      "Epoch: 0154 Train Error: 0.114809513092 Validation Error: 0.111999988556\n",
      "Epoch: 0155 Train Error: 0.114666640759 Validation Error: 0.111000001431\n",
      "Epoch: 0156 Train Error: 0.114428579807 Validation Error: 0.110499978065\n",
      "Epoch: 0157 Train Error: 0.114309549332 Validation Error: 0.109166681767\n",
      "Epoch: 0158 Train Error: 0.11452382803 Validation Error: 0.109833359718\n",
      "Epoch: 0159 Train Error: 0.114047646523 Validation Error: 0.109833359718\n",
      "Epoch: 0160 Train Error: 0.114238083363 Validation Error: 0.110833346844\n",
      "Epoch: 0161 Train Error: 0.113285720348 Validation Error: 0.110833346844\n",
      "Epoch: 0162 Train Error: 0.113571405411 Validation Error: 0.110333323479\n",
      "Epoch: 0163 Train Error: 0.113785743713 Validation Error: 0.109166681767\n",
      "Epoch: 0164 Train Error: 0.112619042397 Validation Error: 0.110833346844\n",
      "Epoch: 0165 Train Error: 0.113428592682 Validation Error: 0.10949999094\n",
      "Epoch: 0166 Train Error: 0.112738072872 Validation Error: 0.110499978065\n",
      "Epoch: 0167 Train Error: 0.112999975681 Validation Error: 0.111500024796\n",
      "Epoch: 0168 Train Error: 0.112309515476 Validation Error: 0.109166681767\n",
      "Epoch: 0169 Train Error: 0.113214313984 Validation Error: 0.110000014305\n",
      "Epoch: 0170 Train Error: 0.112785696983 Validation Error: 0.107666671276\n",
      "Epoch: 0171 Train Error: 0.113095223904 Validation Error: 0.10900002718\n",
      "Epoch: 0172 Train Error: 0.112380981445 Validation Error: 0.109666645527\n",
      "Epoch: 0173 Train Error: 0.112809538841 Validation Error: 0.109333336353\n",
      "Epoch: 0174 Train Error: 0.112071454525 Validation Error: 0.10949999094\n",
      "Epoch: 0175 Train Error: 0.112214267254 Validation Error: 0.10949999094\n",
      "Epoch: 0176 Train Error: 0.11188095808 Validation Error: 0.10900002718\n",
      "Epoch: 0177 Train Error: 0.112285733223 Validation Error: 0.110499978065\n",
      "Epoch: 0178 Train Error: 0.112285733223 Validation Error: 0.108166694641\n",
      "Epoch: 0179 Train Error: 0.112095236778 Validation Error: 0.108666658401\n",
      "Epoch: 0180 Train Error: 0.112023830414 Validation Error: 0.109333336353\n",
      "Epoch: 0181 Train Error: 0.111952364445 Validation Error: 0.109833359718\n",
      "Epoch: 0182 Train Error: 0.111642837524 Validation Error: 0.108333349228\n",
      "Epoch: 0183 Train Error: 0.11188095808 Validation Error: 0.109166681767\n",
      "Epoch: 0184 Train Error: 0.11126190424 Validation Error: 0.108833312988\n",
      "Epoch: 0185 Train Error: 0.111166656017 Validation Error: 0.108333349228\n",
      "Epoch: 0186 Train Error: 0.111309528351 Validation Error: 0.108500003815\n",
      "Epoch: 0187 Train Error: 0.110785722733 Validation Error: 0.108500003815\n",
      "Epoch: 0188 Train Error: 0.110547602177 Validation Error: 0.107833325863\n",
      "Epoch: 0189 Train Error: 0.110904753208 Validation Error: 0.107833325863\n",
      "Epoch: 0190 Train Error: 0.110714256763 Validation Error: 0.107666671276\n",
      "Epoch: 0191 Train Error: 0.110714256763 Validation Error: 0.107166647911\n",
      "Epoch: 0192 Train Error: 0.110476195812 Validation Error: 0.107833325863\n",
      "Epoch: 0193 Train Error: 0.110857129097 Validation Error: 0.108333349228\n",
      "Epoch: 0194 Train Error: 0.110285699368 Validation Error: 0.107333362103\n",
      "Epoch: 0195 Train Error: 0.11007142067 Validation Error: 0.107166647911\n",
      "Epoch: 0196 Train Error: 0.110214293003 Validation Error: 0.107166647911\n",
      "Epoch: 0197 Train Error: 0.11038094759 Validation Error: 0.106833338737\n",
      "Epoch: 0198 Train Error: 0.109833359718 Validation Error: 0.106999993324\n",
      "Epoch: 0199 Train Error: 0.109380960464 Validation Error: 0.106333315372\n",
      "Epoch: 0200 Train Error: 0.109952390194 Validation Error: 0.107500016689\n",
      "Epoch: 0201 Train Error: 0.109428584576 Validation Error: 0.107333362103\n",
      "Epoch: 0202 Train Error: 0.109880924225 Validation Error: 0.106833338737\n",
      "Epoch: 0203 Train Error: 0.109833359718 Validation Error: 0.106833338737\n",
      "Epoch: 0204 Train Error: 0.109357118607 Validation Error: 0.106333315372\n",
      "Epoch: 0205 Train Error: 0.109142839909 Validation Error: 0.107333362103\n",
      "Epoch: 0206 Train Error: 0.108880937099 Validation Error: 0.106833338737\n",
      "Epoch: 0207 Train Error: 0.109238088131 Validation Error: 0.106500029564\n",
      "Epoch: 0208 Train Error: 0.109285712242 Validation Error: 0.106666684151\n",
      "Epoch: 0209 Train Error: 0.108761906624 Validation Error: 0.105666637421\n",
      "Epoch: 0210 Train Error: 0.109095215797 Validation Error: 0.106999993324\n",
      "Epoch: 0211 Train Error: 0.108833312988 Validation Error: 0.106166660786\n",
      "Epoch: 0212 Train Error: 0.108880937099 Validation Error: 0.106333315372\n",
      "Epoch: 0213 Train Error: 0.108642876148 Validation Error: 0.106666684151\n",
      "Epoch: 0214 Train Error: 0.108357131481 Validation Error: 0.106333315372\n",
      "Epoch: 0215 Train Error: 0.108761906624 Validation Error: 0.105499982834\n",
      "Epoch: 0216 Train Error: 0.108214259148 Validation Error: 0.105499982834\n",
      "Epoch: 0217 Train Error: 0.108380973339 Validation Error: 0.105499982834\n",
      "Epoch: 0218 Train Error: 0.108238101006 Validation Error: 0.105333328247\n",
      "Epoch: 0219 Train Error: 0.108476161957 Validation Error: 0.105333328247\n",
      "Epoch: 0220 Train Error: 0.107833325863 Validation Error: 0.105666637421\n",
      "Epoch: 0221 Train Error: 0.108071446419 Validation Error: 0.10516667366\n",
      "Epoch: 0222 Train Error: 0.107904732227 Validation Error: 0.105499982834\n",
      "Epoch: 0223 Train Error: 0.10830950737 Validation Error: 0.105666637421\n",
      "Epoch: 0224 Train Error: 0.107952356339 Validation Error: 0.106666684151\n",
      "Epoch: 0225 Train Error: 0.107904732227 Validation Error: 0.10516667366\n",
      "Epoch: 0226 Train Error: 0.107357144356 Validation Error: 0.10516667366\n"
     ]
    },
    {
     "name": "stdout",
     "output_type": "stream",
     "text": [
      "Epoch: 0227 Train Error: 0.107476174831 Validation Error: 0.105333328247\n",
      "Epoch: 0228 Train Error: 0.1071190238 Validation Error: 0.104666650295\n",
      "Epoch: 0229 Train Error: 0.107714295387 Validation Error: 0.105333328247\n",
      "Epoch: 0230 Train Error: 0.107333362103 Validation Error: 0.106166660786\n",
      "Epoch: 0231 Train Error: 0.107452392578 Validation Error: 0.106500029564\n",
      "Epoch: 0232 Train Error: 0.107476174831 Validation Error: 0.106166660786\n",
      "Epoch: 0233 Train Error: 0.106714308262 Validation Error: 0.103166639805\n",
      "Epoch: 0234 Train Error: 0.106785714626 Validation Error: 0.103833317757\n",
      "Epoch: 0235 Train Error: 0.106904745102 Validation Error: 0.103999972343\n",
      "Epoch: 0236 Train Error: 0.107261896133 Validation Error: 0.103833317757\n",
      "Epoch: 0237 Train Error: 0.10692858696 Validation Error: 0.103999972343\n",
      "Epoch: 0238 Train Error: 0.106476187706 Validation Error: 0.104333341122\n",
      "Epoch: 0239 Train Error: 0.106380939484 Validation Error: 0.103999972343\n",
      "Epoch: 0240 Train Error: 0.106904745102 Validation Error: 0.104833304882\n",
      "Epoch: 0241 Train Error: 0.106857120991 Validation Error: 0.104499995708\n",
      "Epoch: 0242 Train Error: 0.106380939484 Validation Error: 0.104666650295\n",
      "Epoch: 0243 Train Error: 0.10654759407 Validation Error: 0.104833304882\n",
      "Epoch: 0244 Train Error: 0.106000006199 Validation Error: 0.10366666317\n",
      "Epoch: 0245 Train Error: 0.106428563595 Validation Error: 0.104499995708\n",
      "Epoch: 0246 Train Error: 0.106476187706 Validation Error: 0.103999972343\n",
      "Epoch: 0247 Train Error: 0.106190502644 Validation Error: 0.104166686535\n",
      "Epoch: 0248 Train Error: 0.10623806715 Validation Error: 0.104166686535\n",
      "Epoch: 0249 Train Error: 0.106333315372 Validation Error: 0.103166639805\n",
      "Epoch: 0250 Train Error: 0.106404781342 Validation Error: 0.105000019073\n",
      "Epoch: 0251 Train Error: 0.106023788452 Validation Error: 0.10366666317\n",
      "Epoch: 0252 Train Error: 0.105642855167 Validation Error: 0.102999985218\n",
      "Epoch: 0253 Train Error: 0.105809509754 Validation Error: 0.103833317757\n",
      "Epoch: 0254 Train Error: 0.106166660786 Validation Error: 0.102500021458\n",
      "Epoch: 0255 Train Error: 0.105619072914 Validation Error: 0.102999985218\n",
      "Epoch: 0256 Train Error: 0.106000006199 Validation Error: 0.104666650295\n",
      "Epoch: 0257 Train Error: 0.105333328247 Validation Error: 0.102500021458\n",
      "Epoch: 0258 Train Error: 0.105452358723 Validation Error: 0.102999985218\n",
      "Epoch: 0259 Train Error: 0.104928553104 Validation Error: 0.102833330631\n",
      "Epoch: 0260 Train Error: 0.105309545994 Validation Error: 0.104166686535\n",
      "Epoch: 0261 Train Error: 0.105190455914 Validation Error: 0.10366666317\n",
      "Epoch: 0262 Train Error: 0.105071425438 Validation Error: 0.101833343506\n",
      "Epoch: 0263 Train Error: 0.105428576469 Validation Error: 0.101333320141\n",
      "Epoch: 0264 Train Error: 0.105214297771 Validation Error: 0.103166639805\n",
      "Epoch: 0265 Train Error: 0.105000019073 Validation Error: 0.102500021458\n",
      "Epoch: 0266 Train Error: 0.105095267296 Validation Error: 0.103999972343\n",
      "Epoch: 0267 Train Error: 0.104904770851 Validation Error: 0.101833343506\n",
      "Epoch: 0268 Train Error: 0.104809522629 Validation Error: 0.102333307266\n",
      "Epoch: 0269 Train Error: 0.104476213455 Validation Error: 0.101333320141\n",
      "Epoch: 0270 Train Error: 0.104571402073 Validation Error: 0.103166639805\n",
      "Epoch: 0271 Train Error: 0.10428571701 Validation Error: 0.103166639805\n",
      "Epoch: 0272 Train Error: 0.104571402073 Validation Error: 0.100333333015\n",
      "Epoch: 0273 Train Error: 0.104690492153 Validation Error: 0.101499974728\n",
      "Epoch: 0274 Train Error: 0.104499995708 Validation Error: 0.101499974728\n",
      "Epoch: 0275 Train Error: 0.104428589344 Validation Error: 0.101999998093\n",
      "Epoch: 0276 Train Error: 0.104452371597 Validation Error: 0.101666688919\n",
      "Epoch: 0277 Train Error: 0.104261875153 Validation Error: 0.102500021458\n",
      "Epoch: 0278 Train Error: 0.104571402073 Validation Error: 0.10083335638\n",
      "Epoch: 0279 Train Error: 0.103880941868 Validation Error: 0.101499974728\n",
      "Epoch: 0280 Train Error: 0.103571414948 Validation Error: 0.101999998093\n",
      "Epoch: 0281 Train Error: 0.104047596455 Validation Error: 0.101333320141\n",
      "Epoch: 0282 Train Error: 0.10397619009 Validation Error: 0.10083335638\n",
      "Epoch: 0283 Train Error: 0.104261875153 Validation Error: 0.0995000004768\n",
      "Epoch: 0284 Train Error: 0.104333341122 Validation Error: 0.101833343506\n",
      "Epoch: 0285 Train Error: 0.103833317757 Validation Error: 0.102166652679\n",
      "Epoch: 0286 Train Error: 0.103714287281 Validation Error: 0.0998333096504\n",
      "Epoch: 0287 Train Error: 0.10335713625 Validation Error: 0.10083335638\n",
      "Epoch: 0288 Train Error: 0.104142844677 Validation Error: 0.101000010967\n",
      "Epoch: 0289 Train Error: 0.103880941868 Validation Error: 0.100333333015\n",
      "Epoch: 0290 Train Error: 0.103809535503 Validation Error: 0.101166665554\n",
      "Epoch: 0291 Train Error: 0.103285729885 Validation Error: 0.100166678429\n",
      "Epoch: 0292 Train Error: 0.103999972343 Validation Error: 0.101333320141\n",
      "Epoch: 0293 Train Error: 0.103309512138 Validation Error: 0.100000023842\n",
      "Epoch: 0294 Train Error: 0.103285729885 Validation Error: 0.0998333096504\n",
      "Epoch: 0295 Train Error: 0.103261888027 Validation Error: 0.100166678429\n",
      "Epoch: 0296 Train Error: 0.103833317757 Validation Error: 0.100000023842\n",
      "Epoch: 0297 Train Error: 0.10335713625 Validation Error: 0.101000010967\n",
      "Epoch: 0298 Train Error: 0.103047609329 Validation Error: 0.100666642189\n",
      "Epoch: 0299 Train Error: 0.103452384472 Validation Error: 0.10083335638\n",
      "Epoch: 0300 Train Error: 0.103238105774 Validation Error: 0.100000023842\n",
      "Epoch: 0301 Train Error: 0.102619051933 Validation Error: 0.101000010967\n",
      "Epoch: 0302 Train Error: 0.102904736996 Validation Error: 0.0998333096504\n",
      "Epoch: 0303 Train Error: 0.103119075298 Validation Error: 0.100000023842\n",
      "Epoch: 0304 Train Error: 0.102976202965 Validation Error: 0.09933334589\n",
      "Epoch: 0305 Train Error: 0.102833330631 Validation Error: 0.101333320141\n",
      "Epoch: 0306 Train Error: 0.103071451187 Validation Error: 0.0998333096504\n",
      "Epoch: 0307 Train Error: 0.102500021458 Validation Error: 0.100499987602\n",
      "Epoch: 0308 Train Error: 0.102261900902 Validation Error: 0.100333333015\n",
      "Epoch: 0309 Train Error: 0.103142857552 Validation Error: 0.100499987602\n",
      "Epoch: 0310 Train Error: 0.102500021458 Validation Error: 0.100499987602\n",
      "Epoch: 0311 Train Error: 0.103380978107 Validation Error: 0.0998333096504\n",
      "Epoch: 0312 Train Error: 0.102595210075 Validation Error: 0.0998333096504\n",
      "Epoch: 0313 Train Error: 0.103333353996 Validation Error: 0.100333333015\n",
      "Epoch: 0314 Train Error: 0.102904736996 Validation Error: 0.0996666550636\n",
      "Epoch: 0315 Train Error: 0.102357149124 Validation Error: 0.100666642189\n",
      "Epoch: 0316 Train Error: 0.102142870426 Validation Error: 0.0991666913033\n",
      "Epoch: 0317 Train Error: 0.102404773235 Validation Error: 0.0989999771118\n",
      "Epoch: 0318 Train Error: 0.102690458298 Validation Error: 0.100166678429\n",
      "Epoch: 0319 Train Error: 0.1024761796 Validation Error: 0.0998333096504\n",
      "Epoch: 0320 Train Error: 0.101952373981 Validation Error: 0.098833322525\n",
      "Epoch: 0321 Train Error: 0.102119028568 Validation Error: 0.100166678429\n",
      "Epoch: 0322 Train Error: 0.102119028568 Validation Error: 0.0996666550636\n",
      "Epoch: 0323 Train Error: 0.101857125759 Validation Error: 0.0995000004768\n",
      "Epoch: 0324 Train Error: 0.102500021458 Validation Error: 0.0981666445732\n",
      "Epoch: 0325 Train Error: 0.102166652679 Validation Error: 0.0995000004768\n",
      "Epoch: 0326 Train Error: 0.101976215839 Validation Error: 0.0995000004768\n",
      "Epoch: 0327 Train Error: 0.101976215839 Validation Error: 0.0995000004768\n",
      "Epoch: 0328 Train Error: 0.102047622204 Validation Error: 0.0998333096504\n",
      "Epoch: 0329 Train Error: 0.101523816586 Validation Error: 0.09933334589\n",
      "Epoch: 0330 Train Error: 0.10171431303 Validation Error: 0.0985000133514\n",
      "Epoch: 0331 Train Error: 0.10171431303 Validation Error: 0.0991666913033\n",
      "Epoch: 0332 Train Error: 0.10190474987 Validation Error: 0.0996666550636\n",
      "Epoch: 0333 Train Error: 0.101761877537 Validation Error: 0.0985000133514\n",
      "Epoch: 0334 Train Error: 0.101428568363 Validation Error: 0.0985000133514\n",
      "Epoch: 0335 Train Error: 0.101642847061 Validation Error: 0.0989999771118\n",
      "Epoch: 0336 Train Error: 0.101619064808 Validation Error: 0.0989999771118\n",
      "Epoch: 0337 Train Error: 0.101666688919 Validation Error: 0.0996666550636\n",
      "Epoch: 0338 Train Error: 0.101619064808 Validation Error: 0.0989999771118\n",
      "Epoch: 0339 Train Error: 0.101571440697 Validation Error: 0.098833322525\n"
     ]
    },
    {
     "name": "stdout",
     "output_type": "stream",
     "text": [
      "Epoch: 0340 Train Error: 0.101523816586 Validation Error: 0.098833322525\n",
      "Epoch: 0341 Train Error: 0.10159522295 Validation Error: 0.0986666679382\n",
      "Epoch: 0342 Train Error: 0.101857125759 Validation Error: 0.0983333587646\n",
      "Epoch: 0343 Train Error: 0.101357161999 Validation Error: 0.0981666445732\n",
      "Epoch: 0344 Train Error: 0.101333320141 Validation Error: 0.0981666445732\n",
      "Epoch: 0345 Train Error: 0.101619064808 Validation Error: 0.0986666679382\n",
      "Epoch: 0346 Train Error: 0.101571440697 Validation Error: 0.0981666445732\n",
      "Epoch: 0347 Train Error: 0.10128569603 Validation Error: 0.0991666913033\n",
      "Epoch: 0348 Train Error: 0.101214289665 Validation Error: 0.0981666445732\n",
      "Epoch: 0349 Train Error: 0.101476192474 Validation Error: 0.0983333587646\n",
      "Epoch: 0350 Train Error: 0.101380944252 Validation Error: 0.0981666445732\n",
      "Epoch: 0351 Train Error: 0.101047635078 Validation Error: 0.0985000133514\n",
      "Epoch: 0352 Train Error: 0.101428568363 Validation Error: 0.098833322525\n",
      "Epoch: 0353 Train Error: 0.101000010967 Validation Error: 0.0991666913033\n",
      "Epoch: 0354 Train Error: 0.100761890411 Validation Error: 0.0985000133514\n",
      "Epoch: 0355 Train Error: 0.100928544998 Validation Error: 0.0983333587646\n",
      "Epoch: 0356 Train Error: 0.101023793221 Validation Error: 0.0981666445732\n",
      "Epoch: 0357 Train Error: 0.101547598839 Validation Error: 0.0985000133514\n",
      "Epoch: 0358 Train Error: 0.100571453571 Validation Error: 0.0978333353996\n",
      "Epoch: 0359 Train Error: 0.100857138634 Validation Error: 0.097500026226\n",
      "Epoch: 0360 Train Error: 0.101142883301 Validation Error: 0.0979999899864\n",
      "Epoch: 0361 Train Error: 0.101119041443 Validation Error: 0.0985000133514\n",
      "Epoch: 0362 Train Error: 0.100261926651 Validation Error: 0.0985000133514\n",
      "Epoch: 0363 Train Error: 0.100357115269 Validation Error: 0.0976666808128\n",
      "Epoch: 0364 Train Error: 0.1007142663 Validation Error: 0.0981666445732\n",
      "Epoch: 0365 Train Error: 0.100761890411 Validation Error: 0.0973333120346\n",
      "Epoch: 0366 Train Error: 0.100309550762 Validation Error: 0.0981666445732\n",
      "Epoch: 0367 Train Error: 0.1007142663 Validation Error: 0.0978333353996\n",
      "Epoch: 0368 Train Error: 0.10052382946 Validation Error: 0.0978333353996\n",
      "Epoch: 0369 Train Error: 0.100571453571 Validation Error: 0.0981666445732\n",
      "Epoch: 0370 Train Error: 0.100547611713 Validation Error: 0.0976666808128\n",
      "Epoch: 0371 Train Error: 0.100738108158 Validation Error: 0.0983333587646\n",
      "Epoch: 0372 Train Error: 0.100380957127 Validation Error: 0.0966666936874\n",
      "Epoch: 0373 Train Error: 0.100666642189 Validation Error: 0.0976666808128\n",
      "Epoch: 0374 Train Error: 0.100142836571 Validation Error: 0.097500026226\n",
      "Epoch: 0375 Train Error: 0.10021430254 Validation Error: 0.097000002861\n",
      "Epoch: 0376 Train Error: 0.100595235825 Validation Error: 0.0979999899864\n",
      "Epoch: 0377 Train Error: 0.10009521246 Validation Error: 0.097000002861\n",
      "Epoch: 0378 Train Error: 0.0999523997307 Validation Error: 0.0979999899864\n",
      "Epoch: 0379 Train Error: 0.0999285578728 Validation Error: 0.097500026226\n",
      "Epoch: 0380 Train Error: 0.100000023842 Validation Error: 0.0978333353996\n",
      "Epoch: 0381 Train Error: 0.100142836571 Validation Error: 0.0973333120346\n",
      "Epoch: 0382 Train Error: 0.099761903286 Validation Error: 0.0971666574478\n",
      "Epoch: 0383 Train Error: 0.100023806095 Validation Error: 0.0963333249092\n",
      "Epoch: 0384 Train Error: 0.099761903286 Validation Error: 0.0968333482742\n",
      "Epoch: 0385 Train Error: 0.0996190309525 Validation Error: 0.097500026226\n",
      "Epoch: 0386 Train Error: 0.099761903286 Validation Error: 0.0971666574478\n",
      "Epoch: 0387 Train Error: 0.0999761819839 Validation Error: 0.096499979496\n",
      "Epoch: 0388 Train Error: 0.0998095273972 Validation Error: 0.097000002861\n",
      "Epoch: 0389 Train Error: 0.0993809700012 Validation Error: 0.0979999899864\n",
      "Epoch: 0390 Train Error: 0.0995714068413 Validation Error: 0.0963333249092\n",
      "Epoch: 0391 Train Error: 0.0995237827301 Validation Error: 0.097500026226\n",
      "Epoch: 0392 Train Error: 0.0991428494453 Validation Error: 0.0973333120346\n",
      "Epoch: 0393 Train Error: 0.0995000004768 Validation Error: 0.0961666703224\n",
      "Epoch: 0394 Train Error: 0.0998571515083 Validation Error: 0.0966666936874\n",
      "Epoch: 0395 Train Error: 0.0995000004768 Validation Error: 0.0968333482742\n",
      "Epoch: 0396 Train Error: 0.0994285941124 Validation Error: 0.0963333249092\n",
      "Epoch: 0397 Train Error: 0.0996190309525 Validation Error: 0.096499979496\n",
      "Epoch: 0398 Train Error: 0.0994285941124 Validation Error: 0.097500026226\n",
      "Epoch: 0399 Train Error: 0.10021430254 Validation Error: 0.0976666808128\n",
      "Epoch: 0400 Train Error: 0.099547624588 Validation Error: 0.0966666936874\n",
      "Epoch: 0401 Train Error: 0.0989999771118 Validation Error: 0.0966666936874\n",
      "Epoch: 0402 Train Error: 0.0995237827301 Validation Error: 0.0961666703224\n",
      "Epoch: 0403 Train Error: 0.0992143154144 Validation Error: 0.0979999899864\n",
      "Epoch: 0404 Train Error: 0.0992380976677 Validation Error: 0.0961666703224\n",
      "Epoch: 0405 Train Error: 0.0989285707474 Validation Error: 0.0966666936874\n",
      "Epoch: 0406 Train Error: 0.099047601223 Validation Error: 0.096499979496\n",
      "Epoch: 0407 Train Error: 0.099261879921 Validation Error: 0.0960000157356\n",
      "Epoch: 0408 Train Error: 0.0987619161606 Validation Error: 0.0973333120346\n",
      "Epoch: 0409 Train Error: 0.0990952253342 Validation Error: 0.0968333482742\n",
      "Epoch: 0410 Train Error: 0.0990952253342 Validation Error: 0.0968333482742\n",
      "Epoch: 0411 Train Error: 0.0987142920494 Validation Error: 0.096499979496\n",
      "Epoch: 0412 Train Error: 0.0991190671921 Validation Error: 0.0971666574478\n",
      "Epoch: 0413 Train Error: 0.0988095402718 Validation Error: 0.097500026226\n",
      "Epoch: 0414 Train Error: 0.0991190671921 Validation Error: 0.0971666574478\n",
      "Epoch: 0415 Train Error: 0.0987619161606 Validation Error: 0.0954999923706\n",
      "Epoch: 0416 Train Error: 0.098642885685 Validation Error: 0.096499979496\n",
      "Epoch: 0417 Train Error: 0.0985714197159 Validation Error: 0.0958333611488\n",
      "Epoch: 0418 Train Error: 0.0985476374626 Validation Error: 0.0963333249092\n",
      "Epoch: 0419 Train Error: 0.0986190438271 Validation Error: 0.0963333249092\n",
      "Epoch: 0420 Train Error: 0.0989761948586 Validation Error: 0.0958333611488\n",
      "Epoch: 0421 Train Error: 0.0984285473824 Validation Error: 0.0953333377838\n",
      "Epoch: 0422 Train Error: 0.0985237956047 Validation Error: 0.0961666703224\n",
      "Epoch: 0423 Train Error: 0.098642885685 Validation Error: 0.0968333482742\n",
      "Epoch: 0424 Train Error: 0.0983571410179 Validation Error: 0.0963333249092\n",
      "Epoch: 0425 Train Error: 0.0985237956047 Validation Error: 0.0953333377838\n",
      "Epoch: 0426 Train Error: 0.0985237956047 Validation Error: 0.0958333611488\n",
      "Epoch: 0427 Train Error: 0.0983333587646 Validation Error: 0.0956666469574\n",
      "Epoch: 0428 Train Error: 0.0985237956047 Validation Error: 0.0961666703224\n",
      "Epoch: 0429 Train Error: 0.0987619161606 Validation Error: 0.0963333249092\n",
      "Epoch: 0430 Train Error: 0.0984285473824 Validation Error: 0.0953333377838\n",
      "Epoch: 0431 Train Error: 0.0982618927956 Validation Error: 0.095166683197\n",
      "Epoch: 0432 Train Error: 0.0985000133514 Validation Error: 0.0960000157356\n",
      "Epoch: 0433 Train Error: 0.0985476374626 Validation Error: 0.094666659832\n",
      "Epoch: 0434 Train Error: 0.0982142686844 Validation Error: 0.0950000286102\n",
      "Epoch: 0435 Train Error: 0.0988571643829 Validation Error: 0.095166683197\n",
      "Epoch: 0436 Train Error: 0.0984047651291 Validation Error: 0.0945000052452\n",
      "Epoch: 0437 Train Error: 0.0984047651291 Validation Error: 0.095166683197\n",
      "Epoch: 0438 Train Error: 0.0985476374626 Validation Error: 0.0961666703224\n",
      "Epoch: 0439 Train Error: 0.0982381105423 Validation Error: 0.095166683197\n",
      "Epoch: 0440 Train Error: 0.0980476140976 Validation Error: 0.0953333377838\n",
      "Epoch: 0441 Train Error: 0.0978809595108 Validation Error: 0.0954999923706\n",
      "Epoch: 0442 Train Error: 0.0982618927956 Validation Error: 0.0960000157356\n",
      "Epoch: 0443 Train Error: 0.0979762077332 Validation Error: 0.0948333144188\n",
      "Epoch: 0444 Train Error: 0.0978809595108 Validation Error: 0.0958333611488\n",
      "Epoch: 0445 Train Error: 0.0979762077332 Validation Error: 0.094666659832\n",
      "Epoch: 0446 Train Error: 0.0982142686844 Validation Error: 0.095166683197\n",
      "Epoch: 0447 Train Error: 0.0980238318443 Validation Error: 0.0958333611488\n",
      "Epoch: 0448 Train Error: 0.0979523658752 Validation Error: 0.0954999923706\n",
      "Epoch: 0449 Train Error: 0.0982381105423 Validation Error: 0.0954999923706\n",
      "Epoch: 0450 Train Error: 0.0979523658752 Validation Error: 0.0948333144188\n"
     ]
    },
    {
     "name": "stdout",
     "output_type": "stream",
     "text": [
      "Epoch: 0451 Train Error: 0.0978095531464 Validation Error: 0.0953333377838\n",
      "Epoch: 0452 Train Error: 0.0977619290352 Validation Error: 0.0953333377838\n",
      "Epoch: 0453 Train Error: 0.0974524021149 Validation Error: 0.0956666469574\n",
      "Epoch: 0454 Train Error: 0.0974761843681 Validation Error: 0.0954999923706\n",
      "Epoch: 0455 Train Error: 0.0977380871773 Validation Error: 0.0958333611488\n",
      "Epoch: 0456 Train Error: 0.0977619290352 Validation Error: 0.0958333611488\n",
      "Epoch: 0457 Train Error: 0.0978809595108 Validation Error: 0.096499979496\n",
      "Epoch: 0458 Train Error: 0.0978333353996 Validation Error: 0.0958333611488\n",
      "Epoch: 0459 Train Error: 0.0972619056702 Validation Error: 0.0960000157356\n",
      "Epoch: 0460 Train Error: 0.0971904993057 Validation Error: 0.0954999923706\n",
      "Epoch: 0461 Train Error: 0.0974524021149 Validation Error: 0.0953333377838\n",
      "Epoch: 0462 Train Error: 0.0976666808128 Validation Error: 0.095166683197\n",
      "Epoch: 0463 Train Error: 0.0976666808128 Validation Error: 0.0956666469574\n",
      "Epoch: 0464 Train Error: 0.0973333120346 Validation Error: 0.095166683197\n",
      "Epoch: 0465 Train Error: 0.0973809361458 Validation Error: 0.0948333144188\n",
      "Epoch: 0466 Train Error: 0.0971666574478 Validation Error: 0.0945000052452\n",
      "Epoch: 0467 Train Error: 0.0973333120346 Validation Error: 0.0945000052452\n",
      "Epoch: 0468 Train Error: 0.0973809361458 Validation Error: 0.0941666960716\n",
      "Epoch: 0469 Train Error: 0.0971190333366 Validation Error: 0.0943333506584\n",
      "Epoch: 0470 Train Error: 0.097000002861 Validation Error: 0.0948333144188\n",
      "Epoch: 0471 Train Error: 0.0969047546387 Validation Error: 0.095166683197\n",
      "Epoch: 0472 Train Error: 0.0970476269722 Validation Error: 0.0945000052452\n",
      "Epoch: 0473 Train Error: 0.0970476269722 Validation Error: 0.0943333506584\n",
      "Epoch: 0474 Train Error: 0.097000002861 Validation Error: 0.095166683197\n",
      "Epoch: 0475 Train Error: 0.0966428518295 Validation Error: 0.0954999923706\n",
      "Epoch: 0476 Train Error: 0.0969523787498 Validation Error: 0.0943333506584\n",
      "Epoch: 0477 Train Error: 0.0969285964966 Validation Error: 0.0948333144188\n",
      "Epoch: 0478 Train Error: 0.0968809723854 Validation Error: 0.0941666960716\n",
      "Epoch: 0479 Train Error: 0.0966190695763 Validation Error: 0.0948333144188\n",
      "Epoch: 0480 Train Error: 0.0968809723854 Validation Error: 0.095166683197\n",
      "Epoch: 0481 Train Error: 0.0969047546387 Validation Error: 0.0943333506584\n",
      "Epoch: 0482 Train Error: 0.0965238213539 Validation Error: 0.0945000052452\n",
      "Epoch: 0483 Train Error: 0.0971904993057 Validation Error: 0.0941666960716\n",
      "Epoch: 0484 Train Error: 0.097000002861 Validation Error: 0.0945000052452\n",
      "Epoch: 0485 Train Error: 0.0968095064163 Validation Error: 0.0939999818802\n",
      "Epoch: 0486 Train Error: 0.0968333482742 Validation Error: 0.0943333506584\n",
      "Epoch: 0487 Train Error: 0.0967618823051 Validation Error: 0.0948333144188\n",
      "Epoch: 0488 Train Error: 0.0963809490204 Validation Error: 0.0935000181198\n",
      "Epoch: 0489 Train Error: 0.0966190695763 Validation Error: 0.0938333272934\n",
      "Epoch: 0490 Train Error: 0.0962142944336 Validation Error: 0.095166683197\n",
      "Epoch: 0491 Train Error: 0.0969047546387 Validation Error: 0.0926666855812\n",
      "Epoch: 0492 Train Error: 0.0966666936874 Validation Error: 0.0936666727066\n",
      "Epoch: 0493 Train Error: 0.0964523553848 Validation Error: 0.094666659832\n",
      "Epoch: 0494 Train Error: 0.0961666703224 Validation Error: 0.0945000052452\n",
      "Epoch: 0495 Train Error: 0.0966428518295 Validation Error: 0.0948333144188\n",
      "Epoch: 0496 Train Error: 0.0962380766869 Validation Error: 0.0931666493416\n",
      "Epoch: 0497 Train Error: 0.0964523553848 Validation Error: 0.0941666960716\n",
      "Epoch: 0498 Train Error: 0.0964047908783 Validation Error: 0.0936666727066\n",
      "Epoch: 0499 Train Error: 0.0967618823051 Validation Error: 0.0941666960716\n",
      "Epoch: 0500 Train Error: 0.0959285497665 Validation Error: 0.0936666727066\n",
      "Optimization Finished!\n",
      "Test Accuracy: 0.904462\n"
     ]
    }
   ],
   "source": [
    "# 開啟新的圖(graph), 這樣會在結束運算後自動關閉\n",
    "# 僅因測試使用, 方便釋放資源以及模型自動清空, 重新執行才不會出現已經存在的錯誤\n",
    "# 如果需要保存變數資料, 請不要使用這個語法\n",
    "with tf.Graph().as_default() as g:\n",
    "    # 設定 x, y 的佔位符, 這樣可以因應不同情況做替換\n",
    "    x = tf.placeholder('float', [None, 784])\n",
    "    y = tf.placeholder('float', [None, 10])\n",
    "\n",
    "    # 初始化從零開始, 計算目前訓練的次數\n",
    "    global_step = tf.Variable(0, name='global_step', trainable=False)\n",
    "\n",
    "    # 呼叫上方定義的四個模型組成要素\n",
    "    output = inference(x)\n",
    "    cost = loss(output, y)\n",
    "    train_op = training(cost, global_step, lr)\n",
    "    eval_op = evaluate(output, y)\n",
    "    \n",
    "    # 設定儲存節點跟目標資料夾\n",
    "    summary_op = tf.summary.merge_all()\n",
    "    saver = tf.train.Saver()\n",
    "    summary_writer = tf.summary.FileWriter('logs/simple_logistic_model/', graph=g)\n",
    "\n",
    "    # 開啟會話, 進行變數的初始化.\n",
    "    init_op = tf.global_variables_initializer()\n",
    "    sess = tf.Session()\n",
    "    sess.run(init_op)\n",
    "\n",
    "    # 開始訓練, 這個迴圈會重複進行直到訓練結束\n",
    "    for epoch in range(epochs):\n",
    "\n",
    "        # 由於是小批次訓練, 這邊設定了每個epoch會更新的次數\n",
    "        total_batch = int( len(X_train)/batch_size )\n",
    "        \n",
    "        for i in range(total_batch):\n",
    "            # 呼叫上方定義的小批次傳入方法, 取得當前的 (x, y)\n",
    "            mbatch_x, mbatch_y = next_batch(batch_size, X_train, y_train)\n",
    "            # 由會話開啟訓練, 由於我們使用了placeholder, 所以feed_dict是一定要給的\n",
    "            sess.run(train_op, feed_dict={x:mbatch_x, y:mbatch_y})\n",
    "\n",
    "        # 呼叫評估方法, 計算出train, val的準確度, 印出誤差\n",
    "        train_accuracy = sess.run(eval_op, feed_dict={x:X_train, y:y_train})\n",
    "        val_accuracy = sess.run(eval_op, feed_dict={x:X_val, y:y_val})\n",
    "        print('Epoch:', '%04d' % (epoch+1), 'Train Error:', (1-train_accuracy), 'Validation Error:', (1-val_accuracy))\n",
    "        \n",
    "        # 執行我們設定的紀錄節點, 並把結果寫到指定的資料夾\n",
    "        summary_str = sess.run(summary_op, feed_dict={x:mbatch_x, y:mbatch_y})\n",
    "        summary_writer.add_summary(summary_str, sess.run(global_step))\n",
    "        saver.save(sess, 'logs/simple_logistic_model/model-checkpoint', global_step=global_step)\n",
    "\n",
    "    # 結束\n",
    "    print('Optimization Finished!')\n",
    "    \n",
    "    # 呼叫評估方法, 計算test資料準確度並印出\n",
    "    accuracy = sess.run(eval_op, feed_dict={x:X_test, y:y_test})\n",
    "    print('Test Accuracy:', accuracy)"
   ]
  },
  {
   "cell_type": "markdown",
   "metadata": {},
   "source": [
    "到這裡為止，整個簡單的模型就已經完成了，我們再來複習一下剛剛的操作：  \n",
    "* 定義了**推測**的方法, 因此我們可以從圖片的向量中推測其分類\n",
    "* 定義了**誤差**的方法, 這讓我們計算估計值與實際值的差距\n",
    "* 定義了**訓練**的方法, 透過訓練我們可以降低我們的誤差\n",
    "* 定義了**評估**的方法, 這使我們得以隨時檢查模型是否合適\n",
    "* 使用了**小批次**訓練, 隨機輸入資料, 這可以避免整批梯度無法下降的問題\n",
    "* 經由反覆執行上面定義的內容, 我們終於訓練出一個簡單模型, 並且在test資料準確率達九成\n",
    "\n",
    "---"
   ]
  },
  {
   "cell_type": "markdown",
   "metadata": {},
   "source": [
    "## 3. 使用TensorBoard視覺化工具"
   ]
  },
  {
   "cell_type": "markdown",
   "metadata": {},
   "source": [
    "還記不記得，在很多步驟中我們加入了記錄過程的運算結點。  \n",
    "我們還在每次梯度後把log檔寫出，卻沒有看到結果。  \n",
    "事實上我們可以使用tensorflow所提供的視覺化套件來快速查看它們。  \n",
    "首先先打開anaconda prompt並輸入 `tensorboard --logdir=<absolute_path_to_log_dir>`  \n",
    "注意`<absolute_path_to_log_dir>`是按照剛剛設定的目錄，但是要全路徑哦。  \n",
    "輸入完成只要看到它回傳了一個網址並提示CTRL+C離開，這時候就成功打開了`tensorboard`這個視覺化套件。  "
   ]
  },
  {
   "cell_type": "markdown",
   "metadata": {},
   "source": [
    "![cmd](image/cmd.jpg)"
   ]
  },
  {
   "cell_type": "markdown",
   "metadata": {},
   "source": [
    "連上它所提供的網址，就可以看到我們剛剛設定的cost, validation_error  \n",
    "甚至按下graphs還可以看到完整節點圖  "
   ]
  },
  {
   "cell_type": "markdown",
   "metadata": {},
   "source": [
    "![cost](image/cost.jpg)"
   ]
  },
  {
   "cell_type": "markdown",
   "metadata": {},
   "source": [
    "![node](image/node.png)"
   ]
  },
  {
   "cell_type": "code",
   "execution_count": null,
   "metadata": {},
   "outputs": [],
   "source": []
  },
  {
   "cell_type": "code",
   "execution_count": null,
   "metadata": {},
   "outputs": [],
   "source": []
  },
  {
   "cell_type": "code",
   "execution_count": null,
   "metadata": {},
   "outputs": [],
   "source": []
  },
  {
   "cell_type": "code",
   "execution_count": null,
   "metadata": {},
   "outputs": [],
   "source": []
  }
 ],
 "metadata": {
  "kernelspec": {
   "display_name": "Python 3",
   "language": "python",
   "name": "python3"
  },
  "language_info": {
   "codemirror_mode": {
    "name": "ipython",
    "version": 3
   },
   "file_extension": ".py",
   "mimetype": "text/x-python",
   "name": "python",
   "nbconvert_exporter": "python",
   "pygments_lexer": "ipython3",
   "version": "3.6.5"
  }
 },
 "nbformat": 4,
 "nbformat_minor": 2
}
