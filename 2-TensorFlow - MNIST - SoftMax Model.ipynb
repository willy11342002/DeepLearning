{
 "cells": [
  {
   "cell_type": "markdown",
   "metadata": {},
   "source": [
    "# TensorFlow 邏輯回歸網路 手寫數字分類\n",
    "---"
   ]
  },
  {
   "cell_type": "markdown",
   "metadata": {},
   "source": [
    "## 目標：\n",
    "* 了解圖像資料處理步驟\n",
    "* 建立tensorflow softmax regression model\n",
    "* 訓練model並計算出準確度"
   ]
  },
  {
   "cell_type": "markdown",
   "metadata": {},
   "source": [
    "# 索引\n",
    "## [1 圖像資料預處理](#1.-圖像資料預處理)   \n",
    "[1.1 讀取標籤及位置](#1.1-讀取標籤及位置)   \n",
    "[1.2 資料檢查](#1.2-資料檢查)   \n",
    "* [1.2.1 檢查資料是否平衡](#1.2.1-檢查資料是否平衡)\n",
    "* [1.2.2 檢查資料內容](#1.2.2-檢查資料內容)   \n",
    "\n",
    "[1.3 將資料切成 train 70%, val 10%, test 20%](#1.3-將資料分成三等份)   \n",
    "[1.4 讀取及轉換資料](#1.4-讀取及轉換資料)   \n",
    "[1.5 目標變數轉換](#1.5-目標變數轉換)\n",
    "## [2 模型建置](#2.-模型建置)   \n",
    "[2.1 推測](#2.1-推測)  \n",
    "[2.2 誤差](#2.2-誤差)  \n",
    "[2.3 訓練](#2.3-訓練)  \n",
    "[2.4 評估](#2.4-評估)  \n",
    "[2.5 小批次梯度下降](#2.5-小批次梯度下降)  \n",
    "[2.6 模型訓練](#2.6-模型訓練)  \n",
    "## [3 使用TensorBoard視覺化工具](#3.-使用TensorBoard視覺化工具)   \n",
    "\n"
   ]
  },
  {
   "cell_type": "code",
   "execution_count": 1,
   "metadata": {},
   "outputs": [],
   "source": [
    "import tensorflow as tf\n",
    "import numpy as np\n",
    "import pandas as pd\n",
    "import matplotlib.pyplot as plt\n",
    "%matplotlib inline\n",
    "\n",
    "import os, cv2"
   ]
  },
  {
   "cell_type": "markdown",
   "metadata": {},
   "source": [
    "## 1. 圖像資料預處理\n",
    "### 1.1 讀取標籤及位置\n",
    "當我們面對的是圖像資料，或者其他非結構化的資料時，由於其特性的關係，通常並不是直接使用資料表的形式儲存。  \n",
    "所以我們可能會依照不同的類別，存放在不同的資料夾中（也就是我們用資料夾來分類）。  \n",
    "在這種情況下，我們需要熟悉如何一次掃描整個資料夾內的子資料夾，並抓取我們需要的資訊。"
   ]
  },
  {
   "cell_type": "code",
   "execution_count": 2,
   "metadata": {},
   "outputs": [],
   "source": [
    "def filePathsGen(rootPath):\n",
    "    '''獲取該輸入目錄底下的資料，並將其子目錄作為其類別標籤（適用於子目錄名稱僅含有一個位元字）'''\n",
    "    paths=[]\n",
    "    labels=[]\n",
    "    \n",
    "    for dirPath,dirNames,fileNames in os.walk(rootPath):\n",
    "        for fileName in fileNames:\n",
    "            if not fileName[0]=='t':\n",
    "                # 將完整目錄存在 paths 變數中\n",
    "                paths.append( os.path.join(dirPath,fileName) )\n",
    "\n",
    "                # 將所在目錄存在 labels 變數中\n",
    "                if os.name == 'nt':\n",
    "                    label = dirPath.split('\\\\')[-1]\n",
    "                else:\n",
    "                    label = dirPath.split('/')[-1]\n",
    "                labels.append( label )\n",
    "            \n",
    "    # 回傳時將資料轉為 numpy array 這是python很好用的函式庫，速度快，而且大多數函式庫都依賴它\n",
    "    return np.array(labels), np.array(paths)"
   ]
  },
  {
   "cell_type": "code",
   "execution_count": 3,
   "metadata": {
    "scrolled": true
   },
   "outputs": [],
   "source": [
    "labels, paths = filePathsGen('datasets/mnist')"
   ]
  },
  {
   "cell_type": "markdown",
   "metadata": {},
   "source": [
    "### 1.2 資料檢查\n",
    "#### 1.2.1 檢查資料是否平衡\n",
    "每當我們拿到新的資料時，一定要做這個步驟。   \n",
    "即使每分資料或許不同，但是檢查是否平衡、缺值等，都是必要的。"
   ]
  },
  {
   "cell_type": "code",
   "execution_count": 4,
   "metadata": {
    "scrolled": true
   },
   "outputs": [
    {
     "data": {
      "text/plain": [
       "<matplotlib.axes._subplots.AxesSubplot at 0x22bac1fe6d8>"
      ]
     },
     "execution_count": 4,
     "metadata": {},
     "output_type": "execute_result"
    },
    {
     "data": {
      "image/png": "[encoded data removed]",
      "text/plain": [
       "<Figure size 432x288 with 1 Axes>"
      ]
     },
     "metadata": {},
     "output_type": "display_data"
    }
   ],
   "source": [
    "# 檢查資料是否平衡，先將剛剛獲得的 paths, labels 合併在一個 DataFrame 中\n",
    "df = pd.concat( [pd.Series(labels), pd.Series(paths)], axis=1 )\n",
    "df.columns = ['label', 'path'] # 給資料欄位名稱\n",
    "df = df.sample(frac=1) # 將資料打亂\n",
    "df = df.reset_index().drop('index', axis=1) # 打亂後重設 index\n",
    "\n",
    "# 藉著 DataFrame 的 groupby 功能, 我們可以快速取得每一個類別的筆數\n",
    "dfCount = df.groupby('label').count()\n",
    "\n",
    "# 試著讓圖示符合我們真正想要看到的內容\n",
    "dfCount.rename( columns={'path':'amount of figures'}, inplace=True )\n",
    "\n",
    "# 指定圖表樣式為條狀圖, rot是底下的標籤顯示方向（可有可無）\n",
    "dfCount.plot(kind='bar', rot=0)"
   ]
  },
  {
   "cell_type": "markdown",
   "metadata": {},
   "source": [
    "#### 1.2.2 檢查資料內容\n",
    "資料檢查第二步，我們隨便挑個幾張圖出來看，這是要檢查我們的資料是否符合我們的期待。  \n",
    "由於有的時候資料並不是我們自己蒐集的，又或者我們自己蒐集時沒有檢查，所以這個步驟千萬不要省。  \n",
    "\n",
    "由於上面我們已經順手將`DataFrame`打亂了。  \n",
    "所以我們就不用特地隨機抽取圖片，直接看前5張圖。"
   ]
  },
  {
   "cell_type": "code",
   "execution_count": 5,
   "metadata": {},
   "outputs": [
    {
     "data": {
      "image/png": "[encoded data removed]",
      "text/plain": [
       "<Figure size 432x288 with 5 Axes>"
      ]
     },
     "metadata": {},
     "output_type": "display_data"
    }
   ],
   "source": [
    "# 要讓繪圖區分割橫向，就需要設定子圖\n",
    "fig, axes = plt.subplots(1, 5) # 設定圖片分配為 1*5\n",
    "\n",
    "for i in range(5):\n",
    "    # 用 opencv 來讀取圖片\n",
    "    img = cv2.imread(df.path[i])\n",
    "    \n",
    "    # 在相應的子圖區域繪圖\n",
    "    axes[i].imshow(img)\n",
    "    \n",
    "# 貌似新版 jupyter notebook 已經不需要自己打上 show()方法\n",
    "# 但是養成好習慣，在想要繪圖的時候還是加上。\n",
    "plt.show()"
   ]
  },
  {
   "cell_type": "markdown",
   "metadata": {},
   "source": [
    "### 1.3 將資料分成三等份\n",
    "這邊由於我們是平衡的資料，所以事實上我們是可以直接切的（剛剛也已經打亂）。  \n",
    "但是如果是不平衡資料的話，還需要另外處理。"
   ]
  },
  {
   "cell_type": "code",
   "execution_count": 6,
   "metadata": {},
   "outputs": [],
   "source": [
    "# 取出 path, label 存成 X 跟 y\n",
    "# 記得存成 numpy array 這樣資料就不含有原本的 index\n",
    "X = np.array(df.path)\n",
    "y = np.array(df.label).astype(np.int8)"
   ]
  },
  {
   "cell_type": "code",
   "execution_count": 7,
   "metadata": {},
   "outputs": [],
   "source": [
    "def sliceDatasets(X, y):\n",
    "    # 設定 0.7*0.1*0.2 的 index 範圍\n",
    "    train_idx = range( 0, int(0.7*len(X)) )\n",
    "    val_idx = range( int(0.7*len(X)), int(0.8*len(X)) )\n",
    "    test_idx = range( int(0.78*len(X)), len(X)-1 )\n",
    "    \n",
    "    # 將 X, y 切成我們需要的三分 \n",
    "    X_train = X[train_idx]\n",
    "    X_val = X[val_idx]\n",
    "    X_test = X[test_idx]\n",
    "    y_train = y[train_idx]\n",
    "    y_val = y[val_idx]\n",
    "    y_test = y[test_idx]\n",
    "    \n",
    "    return X_train, X_val, X_test, y_train, y_val, y_test"
   ]
  },
  {
   "cell_type": "code",
   "execution_count": 8,
   "metadata": {
    "scrolled": true
   },
   "outputs": [
    {
     "name": "stdout",
     "output_type": "stream",
     "text": [
      "(42000,) (42000,)\n",
      "(6000,) (6000,)\n",
      "(13199,) (13199,)\n"
     ]
    }
   ],
   "source": [
    "X_train, X_val, X_test, y_train, y_val, y_test = sliceDatasets(X, y)\n",
    "\n",
    "print(X_train.shape, y_train.shape)\n",
    "print(X_val.shape, y_val.shape)\n",
    "print(X_test.shape, y_test.shape)"
   ]
  },
  {
   "cell_type": "markdown",
   "metadata": {},
   "source": [
    "### 1.4 讀取及轉換資料\n",
    "由於我們的資料是圖片，通常比較占用記憶體，會選擇在前面都處理好後才真的讀進記憶體內。   \n",
    "這在圖片數量很多、圖片很大甚至影片的時候會非常有感。"
   ]
  },
  {
   "cell_type": "code",
   "execution_count": 9,
   "metadata": {},
   "outputs": [],
   "source": [
    "def dataLoad(X):\n",
    "    '''此方法透過輸入指定的目錄向量，讀取目錄的圖檔。'''\n",
    "    \n",
    "    # 先創建 numpy array 這種做法需要先設定大小，但是效能比起 python 原生 list 快非常多\n",
    "    x=np.zeros( (len(X), 28, 28) )\n",
    "    \n",
    "    # 逐筆讀取資料後取代本來創建的 numpy array\n",
    "    for i in range(len(X)):\n",
    "        # 在 imread() 方法內帶入參數 flag=0 表示讀取灰階圖片\n",
    "        # 讀取後將數值除255, 這會讓每個數值介於 0~1 之間, 方便我們後續機器做運算\n",
    "        x[i]=cv2.imread(X[i],0)/255 \n",
    "        \n",
    "    return x"
   ]
  },
  {
   "cell_type": "code",
   "execution_count": 10,
   "metadata": {},
   "outputs": [
    {
     "name": "stdout",
     "output_type": "stream",
     "text": [
      "(42000, 28, 28) (6000, 28, 28) (13199, 28, 28)\n"
     ]
    }
   ],
   "source": [
    "# 將剛剛的路徑資料全都讀取成圖片資料\n",
    "X_train = dataLoad(X_train)\n",
    "X_val = dataLoad(X_val)\n",
    "X_test = dataLoad(X_test)\n",
    "\n",
    "print(X_train.shape, X_val.shape, X_test.shape)"
   ]
  },
  {
   "cell_type": "code",
   "execution_count": 11,
   "metadata": {},
   "outputs": [
    {
     "name": "stdout",
     "output_type": "stream",
     "text": [
      "(42000, 784) (6000, 784) (13199, 784)\n"
     ]
    }
   ],
   "source": [
    "# 由於我們目標是使用簡單的 softmax 來實現分類, 因此我們把資料展開, 方便我們建模\n",
    "# 透過 reshape()方法, 將資料從二維的 28x28 轉為一維的 784\n",
    "X_train = X_train.reshape(X_train.shape[0], -1)\n",
    "X_val = X_val.reshape(X_val.shape[0], -1)\n",
    "X_test = X_test.reshape(X_test.shape[0], -1)\n",
    "\n",
    "print(X_train.shape, X_val.shape, X_test.shape)"
   ]
  },
  {
   "cell_type": "markdown",
   "metadata": {},
   "source": [
    "### 1.5 目標變數轉換\n",
    "深度學習最終的輸出, 是需要對應目標變數的。  \n",
    "由於我們最終需要10個節點, 分別代表 0~9 的分類預測, 因此傳進模型的 y 也必須要有 0~9。   \n",
    "如果不想自己定義方法也可以使用套件提供的方法轉成one hot型態。"
   ]
  },
  {
   "cell_type": "code",
   "execution_count": 12,
   "metadata": {},
   "outputs": [],
   "source": [
    "def to_one_hot(data, num_labels=10):\n",
    "    '''此方法用於手寫數字的標籤轉 one hot 型態'''\n",
    "    \n",
    "    # 同樣, 我們先建立全部為零的 numpy array\n",
    "    one_hot = np.zeros( (data.shape[0], num_labels) )\n",
    "    \n",
    "    # 透過 enumerate 可以拿到當前資料的內容跟索引\n",
    "    for i, j in enumerate(data):\n",
    "        # 將指定的索引的第 y 欄改成 1\n",
    "        one_hot[i][j] = 1\n",
    "    return one_hot"
   ]
  },
  {
   "cell_type": "code",
   "execution_count": 13,
   "metadata": {},
   "outputs": [
    {
     "name": "stdout",
     "output_type": "stream",
     "text": [
      "(42000, 10) (6000, 10) (13199, 10)\n"
     ]
    }
   ],
   "source": [
    "y_train = to_one_hot(y_train)\n",
    "y_val = to_one_hot(y_val)\n",
    "y_test = to_one_hot(y_test)\n",
    "\n",
    "print(y_train.shape, y_val.shape, y_test.shape)"
   ]
  },
  {
   "cell_type": "markdown",
   "metadata": {},
   "source": [
    "到這邊，我們已經完成了數據的前處理，複習一下前面做了些什麼：  \n",
    "* 使用`os`讀取了指定目錄以下全部的檔案, 設定了子目錄名稱作為目標標籤\n",
    "* 使用`pandas`檢查了資料的平衡性\n",
    "* 使用`opencv`查看了資料本身\n",
    "* 使用`numpy`切成了三個部分的資料集, 分別是`train 70%`, `validation 10%`, `test 20%`\n",
    "* 使用`opencv`讀取了所有的圖檔, 並轉成灰階, 處理至0~1之間\n",
    "* 使用`numpy`將資料展開成一維\n",
    "* 使用`numpy`將目標做成了one hot格式\n",
    "---"
   ]
  },
  {
   "cell_type": "markdown",
   "metadata": {},
   "source": [
    "## 2. 模型建置\n",
    "完成了數據的處理後, 我們真正能夠進入到建模以及訓練的步驟。  \n",
    "整個建模的過程將會分成以下四個部分：  \n",
    "* *`推測 (inference)`*: 計算輸入的資料, 算出對應不同類別輸出的機率分布\n",
    "* *`誤差 (loss)`*: 計算誤差函數的值, 這邊用交叉嫡作為誤差函數\n",
    "* *`訓練 (training)`*: 計算模型參數的梯度並更新\n",
    "* *`評估 (evaluate)`*: 判斷模型的有效性"
   ]
  },
  {
   "cell_type": "markdown",
   "metadata": {},
   "source": [
    "### 2.1 推測"
   ]
  },
  {
   "cell_type": "code",
   "execution_count": 14,
   "metadata": {},
   "outputs": [],
   "source": [
    "def inference(x):\n",
    "    '''定義推測的步驟, 傳入一筆或多筆資料, 使用softmax計算出其分類標籤'''\n",
    "    \n",
    "    # 定義變數初始化方法, 直接填值為零\n",
    "    init = tf.constant_initializer(value=0)\n",
    "    \n",
    "    # 獲取變數的值, 首個參數指定要拿哪個變數\n",
    "    w = tf.get_variable('w', [784,10], initializer=init)\n",
    "    b = tf.get_variable('b', [10], initializer=init)\n",
    "    \n",
    "    # 產出的公式為 softmax(x*w + b)\n",
    "    output = tf.nn.softmax( tf.matmul(x, w) + b )\n",
    "    \n",
    "    # 紀錄過程\n",
    "    w_hist = tf.summary.histogram('weights', w)\n",
    "    b_hist = tf.summary.histogram('biases', b)\n",
    "    y_hist = tf.summary.histogram('output', output)\n",
    "    \n",
    "    return output"
   ]
  },
  {
   "cell_type": "markdown",
   "metadata": {},
   "source": [
    "### 2.2 誤差"
   ]
  },
  {
   "cell_type": "code",
   "execution_count": 15,
   "metadata": {},
   "outputs": [],
   "source": [
    "def loss(output, y):\n",
    "    '''定義誤差函數計算的步驟, 這邊使用的是交叉嫡'''\n",
    "    \n",
    "    # 計算每一個輸出的誤差, 這時候的誤差shape應該為[batch_size, 10], 也就是每一筆有10個誤差值\n",
    "    dot_product = y * tf.log(output)\n",
    "    \n",
    "    # 沿著方向為 1 的方向降維, 也就是把 d1 維度壓扁, 這時候誤差的shape變為[batch_size, 1]\n",
    "    xentropy = -tf.reduce_sum(dot_product, reduction_indices=1)\n",
    "    \n",
    "    # 沿著方向為 0 的方向降為, 也就是把 d0 維度壓扁, 這時候誤差的shape終於變成[1]\n",
    "    loss = tf.reduce_mean(xentropy)\n",
    "    \n",
    "    return loss"
   ]
  },
  {
   "cell_type": "markdown",
   "metadata": {},
   "source": [
    "### 2.3 訓練"
   ]
  },
  {
   "cell_type": "code",
   "execution_count": 16,
   "metadata": {},
   "outputs": [],
   "source": [
    "def training(cost, global_step, lr):\n",
    "    '''定義訓練的步驟, 用梯度下降法'''\n",
    "    \n",
    "    # 紀錄過程\n",
    "    tf.summary.scalar('cost', cost)\n",
    "    \n",
    "    # 定義訓練的方法, 使用梯度下降法\n",
    "    optimizer = tf.train.GradientDescentOptimizer(lr)\n",
    "    \n",
    "    # 進行誤差最小化任務\n",
    "    train_op = optimizer.minimize(cost, global_step=global_step)\n",
    "    \n",
    "    return train_op"
   ]
  },
  {
   "cell_type": "markdown",
   "metadata": {},
   "source": [
    "### 2.4 評估"
   ]
  },
  {
   "cell_type": "code",
   "execution_count": 17,
   "metadata": {},
   "outputs": [],
   "source": [
    "def evaluate(output, y):\n",
    "    '''定義評估的方式, 輸入標籤以及預測標籤, 輸出準確率'''\n",
    "    \n",
    "    # 找出標籤與預測標籤的最大信心水準, 比較是否相同\n",
    "    correct_prediction = tf.equal( tf.argmax(output, 1), tf.argmax(y, 1) )\n",
    "    \n",
    "    # 沿著 0 維度降維, 算出一個準確率\n",
    "    accuracy = tf.reduce_mean(tf.cast(correct_prediction, tf.float32))\n",
    "    \n",
    "    # 紀錄過程\n",
    "    tf.summary.scalar('validation_error', (1. - accuracy))\n",
    "    \n",
    "    return accuracy"
   ]
  },
  {
   "cell_type": "markdown",
   "metadata": {},
   "source": [
    "### 2.5 小批次梯度下降\n",
    "到這邊其實我們已經完成模型設計的大部分工作了。   \n",
    "但是甚至如果我們使用的是**批次梯度下降**, 也就是整個批次丟進模型訓練的演算法,   \n",
    "那麼我們直接開始就可以, 但是批次梯度下降有著不小的問題, 因此我們還是寫一下簡單的小批次"
   ]
  },
  {
   "cell_type": "code",
   "execution_count": 18,
   "metadata": {},
   "outputs": [],
   "source": [
    "def next_batch(batch_size, data, labels):\n",
    "    '''定義批次輸入的方法'''\n",
    "    \n",
    "    # 獲取索引並打亂\n",
    "    idx=np.arange(0, len(data))\n",
    "    np.random.shuffle(idx)\n",
    "    \n",
    "    # 打亂後只取開頭一個批次的資料量\n",
    "    idx = idx[:batch_size]\n",
    "    \n",
    "    # 取得一個批次數量的data, label並回傳\n",
    "    data_shuffle = data[idx]\n",
    "    labels_shuffle = labels[idx]\n",
    "\n",
    "    return data_shuffle, labels_shuffle"
   ]
  },
  {
   "cell_type": "markdown",
   "metadata": {},
   "source": [
    "### 2.6 模型訓練"
   ]
  },
  {
   "cell_type": "code",
   "execution_count": 21,
   "metadata": {},
   "outputs": [],
   "source": [
    "# 定義模型所需參數\n",
    "lr = 0.01\n",
    "epochs = 200\n",
    "batch_size = 2048\n",
    "display_step = 1"
   ]
  },
  {
   "cell_type": "code",
   "execution_count": 22,
   "metadata": {
    "scrolled": false
   },
   "outputs": [
    {
     "name": "stdout",
     "output_type": "stream",
     "text": [
      "Epoch: 0001 Train Error: 0.405642867088 Validation Error: 0.404166638851\n",
      "Epoch: 0002 Train Error: 0.331714272499 Validation Error: 0.332666695118\n",
      "Epoch: 0003 Train Error: 0.287261903286 Validation Error: 0.285666644573\n",
      "Epoch: 0004 Train Error: 0.269214272499 Validation Error: 0.270666658878\n",
      "Epoch: 0005 Train Error: 0.233357131481 Validation Error: 0.238499999046\n",
      "Epoch: 0006 Train Error: 0.218761920929 Validation Error: 0.220666646957\n",
      "Epoch: 0007 Train Error: 0.216499984264 Validation Error: 0.219333350658\n",
      "Epoch: 0008 Train Error: 0.200976192951 Validation Error: 0.204166650772\n",
      "Epoch: 0009 Train Error: 0.206333339214 Validation Error: 0.212833344936\n",
      "Epoch: 0010 Train Error: 0.198595225811 Validation Error: 0.202499985695\n",
      "Epoch: 0011 Train Error: 0.1921428442 Validation Error: 0.194666683674\n",
      "Epoch: 0012 Train Error: 0.188047647476 Validation Error: 0.190500020981\n",
      "Epoch: 0013 Train Error: 0.186571419239 Validation Error: 0.186999976635\n",
      "Epoch: 0014 Train Error: 0.177666664124 Validation Error: 0.180166661739\n",
      "Epoch: 0015 Train Error: 0.172452390194 Validation Error: 0.174499988556\n",
      "Epoch: 0016 Train Error: 0.173738121986 Validation Error: 0.17783331871\n",
      "Epoch: 0017 Train Error: 0.171261906624 Validation Error: 0.171833336353\n",
      "Epoch: 0018 Train Error: 0.169976174831 Validation Error: 0.17150002718\n",
      "Epoch: 0019 Train Error: 0.169785737991 Validation Error: 0.171666681767\n",
      "Epoch: 0020 Train Error: 0.167428553104 Validation Error: 0.169166684151\n",
      "Epoch: 0021 Train Error: 0.163190484047 Validation Error: 0.165166676044\n",
      "Epoch: 0022 Train Error: 0.160261929035 Validation Error: 0.164666652679\n",
      "Epoch: 0023 Train Error: 0.161214292049 Validation Error: 0.163999974728\n",
      "Epoch: 0024 Train Error: 0.159119069576 Validation Error: 0.163999974728\n",
      "Epoch: 0025 Train Error: 0.159071445465 Validation Error: 0.161666691303\n",
      "Epoch: 0026 Train Error: 0.157214283943 Validation Error: 0.160166680813\n",
      "Epoch: 0027 Train Error: 0.154690504074 Validation Error: 0.160166680813\n",
      "Epoch: 0028 Train Error: 0.152904748917 Validation Error: 0.157999992371\n",
      "Epoch: 0029 Train Error: 0.152142882347 Validation Error: 0.158999979496\n",
      "Epoch: 0030 Train Error: 0.1521666646 Validation Error: 0.157333314419\n",
      "Epoch: 0031 Train Error: 0.151380956173 Validation Error: 0.157166659832\n",
      "Epoch: 0032 Train Error: 0.150952398777 Validation Error: 0.15750002861\n",
      "Epoch: 0033 Train Error: 0.148833334446 Validation Error: 0.154333353043\n",
      "Epoch: 0034 Train Error: 0.149619042873 Validation Error: 0.155166685581\n",
      "Epoch: 0035 Train Error: 0.146214306355 Validation Error: 0.1521666646\n",
      "Epoch: 0036 Train Error: 0.14571428299 Validation Error: 0.152499973774\n",
      "Epoch: 0037 Train Error: 0.145309507847 Validation Error: 0.15016669035\n",
      "Epoch: 0038 Train Error: 0.145214259624 Validation Error: 0.151000022888\n",
      "Epoch: 0039 Train Error: 0.144190490246 Validation Error: 0.149500012398\n",
      "Epoch: 0040 Train Error: 0.14426189661 Validation Error: 0.149666666985\n",
      "Epoch: 0041 Train Error: 0.142928600311 Validation Error: 0.148666679859\n",
      "Epoch: 0042 Train Error: 0.142642855644 Validation Error: 0.149333357811\n",
      "Epoch: 0043 Train Error: 0.141238093376 Validation Error: 0.146833360195\n",
      "Epoch: 0044 Train Error: 0.142238080502 Validation Error: 0.147666692734\n",
      "Epoch: 0045 Train Error: 0.140714287758 Validation Error: 0.146000027657\n",
      "Epoch: 0046 Train Error: 0.140261888504 Validation Error: 0.145333349705\n",
      "Epoch: 0047 Train Error: 0.139047622681 Validation Error: 0.14483332634\n",
      "Epoch: 0048 Train Error: 0.138047635555 Validation Error: 0.144333362579\n",
      "Epoch: 0049 Train Error: 0.13842856884 Validation Error: 0.144666671753\n",
      "Epoch: 0050 Train Error: 0.138047635555 Validation Error: 0.143666684628\n",
      "Epoch: 0051 Train Error: 0.13704764843 Validation Error: 0.142166674137\n",
      "Epoch: 0052 Train Error: 0.137619018555 Validation Error: 0.142666637897\n",
      "Epoch: 0053 Train Error: 0.136809527874 Validation Error: 0.142499983311\n",
      "Epoch: 0054 Train Error: 0.136238098145 Validation Error: 0.141166687012\n",
      "Epoch: 0055 Train Error: 0.135785698891 Validation Error: 0.140833318233\n",
      "Epoch: 0056 Train Error: 0.135547637939 Validation Error: 0.14050000906\n",
      "Epoch: 0057 Train Error: 0.134357154369 Validation Error: 0.139166653156\n",
      "Epoch: 0058 Train Error: 0.134547591209 Validation Error: 0.139333307743\n",
      "Epoch: 0059 Train Error: 0.134238123894 Validation Error: 0.138999998569\n",
      "Epoch: 0060 Train Error: 0.135571420193 Validation Error: 0.141166687012\n",
      "Epoch: 0061 Train Error: 0.133857131004 Validation Error: 0.139500021935\n",
      "Epoch: 0062 Train Error: 0.133166670799 Validation Error: 0.138666689396\n",
      "Epoch: 0063 Train Error: 0.132000029087 Validation Error: 0.137833356857\n",
      "Epoch: 0064 Train Error: 0.132261931896 Validation Error: 0.138333320618\n",
      "Epoch: 0065 Train Error: 0.131261885166 Validation Error: 0.136333346367\n",
      "Epoch: 0066 Train Error: 0.131238102913 Validation Error: 0.13616669178\n",
      "Epoch: 0067 Train Error: 0.131333351135 Validation Error: 0.137000024319\n",
      "Epoch: 0068 Train Error: 0.131309509277 Validation Error: 0.137499988079\n",
      "Epoch: 0069 Train Error: 0.13083332777 Validation Error: 0.13616669178\n",
      "Epoch: 0070 Train Error: 0.129714310169 Validation Error: 0.135999977589\n",
      "Epoch: 0071 Train Error: 0.130047619343 Validation Error: 0.135833323002\n",
      "Epoch: 0072 Train Error: 0.129595220089 Validation Error: 0.13516664505\n",
      "Epoch: 0073 Train Error: 0.129476189613 Validation Error: 0.133833348751\n",
      "Epoch: 0074 Train Error: 0.12857145071 Validation Error: 0.13466668129\n",
      "Epoch: 0075 Train Error: 0.129000008106 Validation Error: 0.133333325386\n",
      "Epoch: 0076 Train Error: 0.129166662693 Validation Error: 0.133333325386\n",
      "Epoch: 0077 Train Error: 0.128023803234 Validation Error: 0.134999990463\n",
      "Epoch: 0078 Train Error: 0.128666639328 Validation Error: 0.134000003338\n",
      "Epoch: 0079 Train Error: 0.127499997616 Validation Error: 0.133499979973\n",
      "Epoch: 0080 Train Error: 0.126738071442 Validation Error: 0.131833314896\n",
      "Epoch: 0081 Train Error: 0.127357125282 Validation Error: 0.133499979973\n",
      "Epoch: 0082 Train Error: 0.127404749393 Validation Error: 0.131500005722\n",
      "Epoch: 0083 Train Error: 0.126452386379 Validation Error: 0.132166683674\n",
      "Epoch: 0084 Train Error: 0.125595211983 Validation Error: 0.130166649818\n",
      "Epoch: 0085 Train Error: 0.125523805618 Validation Error: 0.129666686058\n",
      "Epoch: 0086 Train Error: 0.125523805618 Validation Error: 0.130333304405\n",
      "Epoch: 0087 Train Error: 0.125500023365 Validation Error: 0.130666673183\n",
      "Epoch: 0088 Train Error: 0.124809503555 Validation Error: 0.128499984741\n",
      "Epoch: 0089 Train Error: 0.125119030476 Validation Error: 0.129000008106\n",
      "Epoch: 0090 Train Error: 0.125238120556 Validation Error: 0.129499971867\n",
      "Epoch: 0091 Train Error: 0.124023795128 Validation Error: 0.128833353519\n",
      "Epoch: 0092 Train Error: 0.124285697937 Validation Error: 0.128666639328\n",
      "Epoch: 0093 Train Error: 0.12411904335 Validation Error: 0.128000020981\n",
      "Epoch: 0094 Train Error: 0.124214291573 Validation Error: 0.128499984741\n",
      "Epoch: 0095 Train Error: 0.124357163906 Validation Error: 0.127166688442\n",
      "Epoch: 0096 Train Error: 0.124285697937 Validation Error: 0.129000008106\n",
      "Epoch: 0097 Train Error: 0.123904764652 Validation Error: 0.128833353519\n",
      "Epoch: 0098 Train Error: 0.122904777527 Validation Error: 0.126833319664\n",
      "Epoch: 0099 Train Error: 0.12330955267 Validation Error: 0.126833319664\n",
      "Epoch: 0100 Train Error: 0.123714268208 Validation Error: 0.128166675568\n",
      "Epoch: 0101 Train Error: 0.12261903286 Validation Error: 0.126833319664\n",
      "Epoch: 0102 Train Error: 0.12261903286 Validation Error: 0.125999987125\n",
      "Epoch: 0103 Train Error: 0.122190475464 Validation Error: 0.126999974251\n",
      "Epoch: 0104 Train Error: 0.121904790401 Validation Error: 0.125666677952\n",
      "Epoch: 0105 Train Error: 0.121761918068 Validation Error: 0.126166641712\n",
      "Epoch: 0106 Train Error: 0.12154763937 Validation Error: 0.125166654587\n",
      "Epoch: 0107 Train Error: 0.120999991894 Validation Error: 0.125500023365\n",
      "Epoch: 0108 Train Error: 0.121761918068 Validation Error: 0.125500023365\n",
      "Epoch: 0109 Train Error: 0.121214270592 Validation Error: 0.12650001049\n",
      "Epoch: 0110 Train Error: 0.120190501213 Validation Error: 0.124666690826\n",
      "Epoch: 0111 Train Error: 0.12085711956 Validation Error: 0.125666677952\n",
      "Epoch: 0112 Train Error: 0.12004762888 Validation Error: 0.123166680336\n",
      "Epoch: 0113 Train Error: 0.120119035244 Validation Error: 0.12349998951\n"
     ]
    },
    {
     "name": "stdout",
     "output_type": "stream",
     "text": [
      "Epoch: 0114 Train Error: 0.120023787022 Validation Error: 0.124499976635\n",
      "Epoch: 0115 Train Error: 0.119619071484 Validation Error: 0.124166667461\n",
      "Epoch: 0116 Train Error: 0.119690477848 Validation Error: 0.12349998951\n",
      "Epoch: 0117 Train Error: 0.119738101959 Validation Error: 0.123666644096\n",
      "Epoch: 0118 Train Error: 0.119738101959 Validation Error: 0.124333322048\n",
      "Epoch: 0119 Train Error: 0.120000004768 Validation Error: 0.124499976635\n",
      "Epoch: 0120 Train Error: 0.119095265865 Validation Error: 0.123166680336\n",
      "Epoch: 0121 Train Error: 0.118952393532 Validation Error: 0.122500002384\n",
      "Epoch: 0122 Train Error: 0.118571400642 Validation Error: 0.122333347797\n",
      "Epoch: 0123 Train Error: 0.118119060993 Validation Error: 0.122500002384\n",
      "Epoch: 0124 Train Error: 0.119142830372 Validation Error: 0.123666644096\n",
      "Epoch: 0125 Train Error: 0.118309497833 Validation Error: 0.122666656971\n",
      "Epoch: 0126 Train Error: 0.117642879486 Validation Error: 0.122666656971\n",
      "Epoch: 0127 Train Error: 0.118166685104 Validation Error: 0.121833324432\n",
      "Epoch: 0128 Train Error: 0.118190467358 Validation Error: 0.123333334923\n",
      "Epoch: 0129 Train Error: 0.117761909962 Validation Error: 0.121999979019\n",
      "Epoch: 0130 Train Error: 0.117880940437 Validation Error: 0.121833324432\n",
      "Epoch: 0131 Train Error: 0.117047607899 Validation Error: 0.121666669846\n",
      "Epoch: 0132 Train Error: 0.117333352566 Validation Error: 0.121833324432\n",
      "Epoch: 0133 Train Error: 0.117357134819 Validation Error: 0.121500015259\n",
      "Epoch: 0134 Train Error: 0.117261886597 Validation Error: 0.121166646481\n",
      "Epoch: 0135 Train Error: 0.116452395916 Validation Error: 0.120999991894\n",
      "Epoch: 0136 Train Error: 0.116666674614 Validation Error: 0.120333313942\n",
      "Epoch: 0137 Train Error: 0.116547644138 Validation Error: 0.120500028133\n",
      "Epoch: 0138 Train Error: 0.116238117218 Validation Error: 0.120000004768\n",
      "Epoch: 0139 Train Error: 0.115999996662 Validation Error: 0.120000004768\n",
      "Epoch: 0140 Train Error: 0.115761876106 Validation Error: 0.119666695595\n",
      "Epoch: 0141 Train Error: 0.116690456867 Validation Error: 0.121833324432\n",
      "Epoch: 0142 Train Error: 0.116119027138 Validation Error: 0.120833337307\n",
      "Epoch: 0143 Train Error: 0.115809500217 Validation Error: 0.120166659355\n",
      "Epoch: 0144 Train Error: 0.115928590298 Validation Error: 0.120166659355\n",
      "Epoch: 0145 Train Error: 0.115404784679 Validation Error: 0.121166646481\n",
      "Epoch: 0146 Train Error: 0.115190505981 Validation Error: 0.119666695595\n",
      "Epoch: 0147 Train Error: 0.115214288235 Validation Error: 0.118499994278\n",
      "Epoch: 0148 Train Error: 0.114880979061 Validation Error: 0.119833350182\n",
      "Epoch: 0149 Train Error: 0.114476203918 Validation Error: 0.118499994278\n",
      "Epoch: 0150 Train Error: 0.115000009537 Validation Error: 0.11916667223\n",
      "Epoch: 0151 Train Error: 0.114499986172 Validation Error: 0.118833363056\n",
      "Epoch: 0152 Train Error: 0.114238083363 Validation Error: 0.119000017643\n",
      "Epoch: 0153 Train Error: 0.114357113838 Validation Error: 0.119000017643\n",
      "Epoch: 0154 Train Error: 0.114380955696 Validation Error: 0.119333326817\n",
      "Epoch: 0155 Train Error: 0.114095211029 Validation Error: 0.117666661739\n",
      "Epoch: 0156 Train Error: 0.114357113838 Validation Error: 0.117833316326\n",
      "Epoch: 0157 Train Error: 0.114071428776 Validation Error: 0.117500007153\n",
      "Epoch: 0158 Train Error: 0.11333334446 Validation Error: 0.117166638374\n",
      "Epoch: 0159 Train Error: 0.113380968571 Validation Error: 0.117333352566\n",
      "Epoch: 0160 Train Error: 0.113214313984 Validation Error: 0.117166638374\n",
      "Epoch: 0161 Train Error: 0.113166689873 Validation Error: 0.117833316326\n",
      "Epoch: 0162 Train Error: 0.113023817539 Validation Error: 0.116333305836\n",
      "Epoch: 0163 Train Error: 0.112595260143 Validation Error: 0.115999996662\n",
      "Epoch: 0164 Train Error: 0.113880932331 Validation Error: 0.116500020027\n",
      "Epoch: 0165 Train Error: 0.112476170063 Validation Error: 0.116166651249\n",
      "Epoch: 0166 Train Error: 0.112523794174 Validation Error: 0.116999983788\n",
      "Epoch: 0167 Train Error: 0.112357139587 Validation Error: 0.115666687489\n",
      "Epoch: 0168 Train Error: 0.112142860889 Validation Error: 0.115166664124\n",
      "Epoch: 0169 Train Error: 0.112380981445 Validation Error: 0.115999996662\n",
      "Epoch: 0170 Train Error: 0.112023830414 Validation Error: 0.115166664124\n",
      "Epoch: 0171 Train Error: 0.112071454525 Validation Error: 0.115666687489\n",
      "Epoch: 0172 Train Error: 0.111690461636 Validation Error: 0.115166664124\n",
      "Epoch: 0173 Train Error: 0.111904740334 Validation Error: 0.115833342075\n",
      "Epoch: 0174 Train Error: 0.111619055271 Validation Error: 0.115666687489\n",
      "Epoch: 0175 Train Error: 0.111500024796 Validation Error: 0.11483335495\n",
      "Epoch: 0176 Train Error: 0.111738085747 Validation Error: 0.115499973297\n",
      "Epoch: 0177 Train Error: 0.111547589302 Validation Error: 0.114000022411\n",
      "Epoch: 0178 Train Error: 0.111476182938 Validation Error: 0.11483335495\n",
      "Epoch: 0179 Train Error: 0.111428558826 Validation Error: 0.114166676998\n",
      "Epoch: 0180 Train Error: 0.111023783684 Validation Error: 0.11533331871\n",
      "Epoch: 0181 Train Error: 0.111285686493 Validation Error: 0.11383330822\n",
      "Epoch: 0182 Train Error: 0.110904753208 Validation Error: 0.114666640759\n",
      "Epoch: 0183 Train Error: 0.110904753208 Validation Error: 0.114166676998\n",
      "Epoch: 0184 Train Error: 0.110476195812 Validation Error: 0.114499986172\n",
      "Epoch: 0185 Train Error: 0.111142873764 Validation Error: 0.114666640759\n",
      "Epoch: 0186 Train Error: 0.110976219177 Validation Error: 0.114499986172\n",
      "Epoch: 0187 Train Error: 0.110452353954 Validation Error: 0.115166664124\n",
      "Epoch: 0188 Train Error: 0.110309541225 Validation Error: 0.11383330822\n",
      "Epoch: 0189 Train Error: 0.110714256763 Validation Error: 0.11483335495\n",
      "Epoch: 0190 Train Error: 0.110666692257 Validation Error: 0.113499999046\n",
      "Epoch: 0191 Train Error: 0.110404789448 Validation Error: 0.11333334446\n",
      "Epoch: 0192 Train Error: 0.110523819923 Validation Error: 0.113666653633\n",
      "Epoch: 0193 Train Error: 0.109785735607 Validation Error: 0.11383330822\n",
      "Epoch: 0194 Train Error: 0.109928548336 Validation Error: 0.112833321095\n",
      "Epoch: 0195 Train Error: 0.109761893749 Validation Error: 0.113166689873\n",
      "Epoch: 0196 Train Error: 0.11007142067 Validation Error: 0.114166676998\n",
      "Epoch: 0197 Train Error: 0.109333336353 Validation Error: 0.112999975681\n",
      "Epoch: 0198 Train Error: 0.110142886639 Validation Error: 0.113499999046\n",
      "Epoch: 0199 Train Error: 0.109547615051 Validation Error: 0.113166689873\n",
      "Epoch: 0200 Train Error: 0.110238075256 Validation Error: 0.115000009537\n",
      "Optimization Finished!\n",
      "Test Accuracy: 0.89325\n"
     ]
    }
   ],
   "source": [
    "# 開啟新的圖(graph), 這樣會在結束運算後自動關閉\n",
    "# 僅因測試使用, 方便釋放資源以及模型自動清空, 重新執行才不會出現已經存在的錯誤\n",
    "# 如果需要保存變數資料, 請不要使用這個語法\n",
    "with tf.Graph().as_default() as g:\n",
    "    # 設定 x, y 的佔位符, 這樣可以因應不同情況做替換\n",
    "    x = tf.placeholder('float', [None, 784])\n",
    "    y = tf.placeholder('float', [None, 10])\n",
    "\n",
    "    # 初始化從零開始, 計算目前訓練的次數\n",
    "    global_step = tf.Variable(0, name='global_step', trainable=False)\n",
    "\n",
    "    # 呼叫上方定義的四個模型組成要素\n",
    "    output = inference(x)\n",
    "    cost = loss(output, y)\n",
    "    train_op = training(cost, global_step, lr)\n",
    "    eval_op = evaluate(output, y)\n",
    "    \n",
    "    # 設定儲存節點跟目標資料夾\n",
    "    summary_op = tf.summary.merge_all()\n",
    "    saver = tf.train.Saver(max_to_keep=2)\n",
    "    summary_writer = tf.summary.FileWriter('logs/simple_logistic_model/', graph=g)\n",
    "\n",
    "    # 開啟會話, 進行變數的初始化.\n",
    "    init_op = tf.global_variables_initializer()\n",
    "    sess = tf.Session()\n",
    "    sess.run(init_op)\n",
    "\n",
    "    # 開始訓練, 這個迴圈會重複進行直到訓練結束\n",
    "    for epoch in range(epochs):\n",
    "\n",
    "        # 由於是小批次訓練, 這邊設定了每個epoch會更新的次數\n",
    "        total_batch = int( len(X_train)/batch_size )\n",
    "        \n",
    "        for i in range(total_batch):\n",
    "            # 呼叫上方定義的小批次傳入方法, 取得當前的 (x, y)\n",
    "            mbatch_x, mbatch_y = next_batch(batch_size, X_train, y_train)\n",
    "            # 由會話開啟訓練, 由於我們使用了placeholder, 所以feed_dict是一定要給的\n",
    "            sess.run(train_op, feed_dict={x:mbatch_x, y:mbatch_y})\n",
    "\n",
    "        # 呼叫評估方法, 計算出train, val的準確度, 印出誤差\n",
    "        train_accuracy = sess.run(eval_op, feed_dict={x:X_train, y:y_train})\n",
    "        val_accuracy = sess.run(eval_op, feed_dict={x:X_val, y:y_val})\n",
    "        print('Epoch:', '%04d' % (epoch+1), 'Train Error:', (1-train_accuracy), 'Validation Error:', (1-val_accuracy))\n",
    "        \n",
    "        # 執行我們設定的紀錄節點, 並把結果寫到指定的資料夾\n",
    "        summary_str = sess.run(summary_op, feed_dict={x:mbatch_x, y:mbatch_y})\n",
    "        summary_writer.add_summary(summary_str, sess.run(global_step))\n",
    "        saver.save(sess, 'logs/simple_logistic_model/model-checkpoint', global_step=global_step)\n",
    "\n",
    "    # 結束\n",
    "    print('Optimization Finished!')\n",
    "    \n",
    "    # 呼叫評估方法, 計算test資料準確度並印出\n",
    "    accuracy = sess.run(eval_op, feed_dict={x:X_test, y:y_test})\n",
    "    print('Test Accuracy:', accuracy)"
   ]
  },
  {
   "cell_type": "markdown",
   "metadata": {},
   "source": [
    "到這裡為止，整個簡單的模型就已經完成了，我們再來複習一下剛剛的操作：  \n",
    "* 定義了**推測**的方法, 因此我們可以從圖片的向量中推測其分類\n",
    "* 定義了**誤差**的方法, 這讓我們計算估計值與實際值的差距\n",
    "* 定義了**訓練**的方法, 透過訓練我們可以降低我們的誤差\n",
    "* 定義了**評估**的方法, 這使我們得以隨時檢查模型是否合適\n",
    "* 使用了**小批次**訓練, 隨機輸入資料, 這可以避免整批梯度無法下降的問題\n",
    "* 經由反覆執行上面定義的內容, 我們終於訓練出一個簡單模型, 並且在test資料準確率達九成\n",
    "\n",
    "---"
   ]
  },
  {
   "cell_type": "markdown",
   "metadata": {},
   "source": [
    "## 3. 使用TensorBoard視覺化工具"
   ]
  },
  {
   "cell_type": "markdown",
   "metadata": {},
   "source": [
    "還記不記得，在很多步驟中我們加入了記錄過程的運算結點。  \n",
    "我們還在每次梯度後把log檔寫出，卻沒有看到結果。  \n",
    "事實上我們可以使用tensorflow所提供的視覺化套件來快速查看它們。  \n",
    "首先先打開anaconda prompt並輸入 `tensorboard --logdir=<absolute_path_to_log_dir>`  \n",
    "注意`<absolute_path_to_log_dir>`是按照剛剛設定的目錄，但是要全路徑哦。  \n",
    "輸入完成只要看到它回傳了一個網址並提示CTRL+C離開，這時候就成功打開了`tensorboard`這個視覺化套件。  "
   ]
  },
  {
   "cell_type": "markdown",
   "metadata": {},
   "source": [
    "![cmd](image/cmd.jpg)"
   ]
  },
  {
   "cell_type": "markdown",
   "metadata": {},
   "source": [
    "連上它所提供的網址，就可以看到我們剛剛設定的cost, validation_error  \n",
    "甚至按下graphs還可以看到完整節點圖  "
   ]
  },
  {
   "cell_type": "markdown",
   "metadata": {},
   "source": [
    "![cost](image/cost.jpg)"
   ]
  },
  {
   "cell_type": "markdown",
   "metadata": {},
   "source": [
    "![node](image/node.png)"
   ]
  },
  {
   "cell_type": "code",
   "execution_count": null,
   "metadata": {},
   "outputs": [],
   "source": []
  },
  {
   "cell_type": "code",
   "execution_count": null,
   "metadata": {},
   "outputs": [],
   "source": []
  },
  {
   "cell_type": "code",
   "execution_count": null,
   "metadata": {},
   "outputs": [],
   "source": []
  },
  {
   "cell_type": "code",
   "execution_count": null,
   "metadata": {},
   "outputs": [],
   "source": []
  }
 ],
 "metadata": {
  "kernelspec": {
   "display_name": "Python 3",
   "language": "python",
   "name": "python3"
  },
  "language_info": {
   "codemirror_mode": {
    "name": "ipython",
    "version": 3
   },
   "file_extension": ".py",
   "mimetype": "text/x-python",
   "name": "python",
   "nbconvert_exporter": "python",
   "pygments_lexer": "ipython3",
   "version": "3.6.5"
  }
 },
 "nbformat": 4,
 "nbformat_minor": 2
}
