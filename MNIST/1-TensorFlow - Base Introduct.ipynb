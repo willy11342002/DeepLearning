{
 "cells": [
  {
   "cell_type": "markdown",
   "metadata": {},
   "source": [
    "#  Tensorflow 基本操作\n",
    "---"
   ]
  },
  {
   "cell_type": "markdown",
   "metadata": {},
   "source": [
    "本教程主要目標，讓大家逐步了解以下五個主要基本操作：   \n",
    "* 使用`圖(graph)`來表示計算任務   \n",
    "* 使用`會話(session)`來執行圖   \n",
    "* 使用`張量(tensor)`來表示數據   \n",
    "* 使用`變量(variable)`來保存狀態   \n",
    "* 使用feed和fetch來為任意的操作給值(取值)  "
   ]
  },
  {
   "cell_type": "markdown",
   "metadata": {},
   "source": [
    "# 索引\n",
    "### [1 概論](#1.-概論)   \n",
    "### [2 圖](#2.-圖-Graph)   \n",
    "### [3 會話](#3.-會話-Session)   \n",
    "### [4 張量](#4.-張量-Tensor)   \n",
    "### [5 變量](#5.-變量-Variable)   \n",
    "### [6 取值](#6.-取值-Fetch)   \n",
    "### [7 給值](#7.-給值-Feed)   "
   ]
  },
  {
   "cell_type": "markdown",
   "metadata": {},
   "source": [
    "## 1. 概論"
   ]
  },
  {
   "cell_type": "markdown",
   "metadata": {},
   "source": [
    "tensorflow 是一個`符號式編程系統(symbolic programming)`，使用`graph`來表示計算任務。  \n",
    "圖中的節點被稱之為`op (operation的縮寫)`，一個op接收一個或多個`tensor`，輸出亦為一個或多個`tensor`。  \n",
    "而每個`tensor`都是一個多維數據組。舉例來說，你可以將一小組圖象表示為四維符點數數組，四維分別為：`[batch, height, width, channels]`  \n",
    "  \n",
    "tensorflow 的圖僅描述了計算的過程，為了進行計算，圖必須在`session`中被啟動。  \n",
    "`session`設計了分散執行以及實際運作的方法，將圖中的`op`分發到諸如CPU或GPU之類的設備上。  \n",
    "這些`op`運算結束後，將產生的`tensor`傳回，在Python語言中傳回的是`numpy ndarray`的格式。"
   ]
  },
  {
   "cell_type": "code",
   "execution_count": 2,
   "metadata": {},
   "outputs": [],
   "source": [
    "import tensorflow as tf\n",
    "import numpy as np"
   ]
  },
  {
   "cell_type": "markdown",
   "metadata": {},
   "source": [
    "## 2. 圖 Graph\n",
    "在tensorflow一開始，我們需要先進行建構圖。  \n",
    "事實上tensorflow一開始就有提供`默認圖 (default graph)`，而這個`default graph`對許多程式已經足夠。  "
   ]
  },
  {
   "cell_type": "code",
   "execution_count": 3,
   "metadata": {},
   "outputs": [
    {
     "name": "stdout",
     "output_type": "stream",
     "text": [
      "Tensor(\"Const:0\", shape=(1, 2), dtype=float32)\n",
      "Tensor(\"Const_1:0\", shape=(2, 1), dtype=float32)\n",
      "Tensor(\"Add:0\", shape=(2, 2), dtype=float32)\n"
     ]
    }
   ],
   "source": [
    "matrix1 = tf.constant( [[3., 3.]] )\n",
    "matrix2 = tf.constant( [[2.], [2.]] )\n",
    "product = tf.add(matrix1, matrix2)\n",
    "print(matrix1)\n",
    "print(matrix2)\n",
    "print(product)"
   ]
  },
  {
   "cell_type": "markdown",
   "metadata": {},
   "source": [
    "這時候`default graph`中就有了三個節點，兩個`constant()`和一個`matmul()`。  \n",
    "但是這時候還沒有執行，記得真正的執行需要在`session`中啟動。  \n"
   ]
  },
  {
   "cell_type": "markdown",
   "metadata": {},
   "source": [
    "## 3. 會話\n",
    "  \n",
    "啟動圖的第一步就是創建一個`session`，如果我們沒有給定任何的參數，`session`將會啟動`default graph`。  "
   ]
  },
  {
   "cell_type": "code",
   "execution_count": 3,
   "metadata": {},
   "outputs": [
    {
     "name": "stdout",
     "output_type": "stream",
     "text": [
      "[[ 12.]]\n"
     ]
    }
   ],
   "source": [
    "# 啟動 default graph\n",
    "sess = tf.Session()\n",
    "\n",
    "# 調用 sess 的 run() 方法來執行矩陣的乘法, 傳入 product 作為該方法的參數\n",
    "# product 是代表矩陣乘法的輸出, 傳入它是告訴 run() 方法我們希望得到該乘法的輸出\n",
    "# 這時候 sess 會負責傳遞所需要的 op, 將 op 交送到適合的硬體中執行\n",
    "result = sess.run(product)\n",
    "print(result)\n",
    "\n",
    "# 任務完成, 關閉以釋放資源\n",
    "sess.close()"
   ]
  },
  {
   "cell_type": "code",
   "execution_count": 4,
   "metadata": {},
   "outputs": [
    {
     "name": "stdout",
     "output_type": "stream",
     "text": [
      "[[ 12.]]\n"
     ]
    }
   ],
   "source": [
    "# 也可以使用 with 來自動關閉 sess\n",
    "with tf.Session() as sess:\n",
    "    result = sess.run(product)\n",
    "    print(result)"
   ]
  },
  {
   "cell_type": "markdown",
   "metadata": {},
   "source": [
    "tensorflow 默認使用第一個GPU (如果安裝的 GPU 版本)，當然如果是安裝 CPU 版本就不用考慮這個了。  \n",
    "但是如果電腦上有多張 GPU 的情況下，要使用這些 GPU 就需要明確的指派用哪個設備進行操作："
   ]
  },
  {
   "cell_type": "code",
   "execution_count": 5,
   "metadata": {},
   "outputs": [
    {
     "name": "stdout",
     "output_type": "stream",
     "text": [
      "383 µs ± 4.94 µs per loop (mean ± std. dev. of 7 runs, 1000 loops each)\n",
      "368 µs ± 4.44 µs per loop (mean ± std. dev. of 7 runs, 1000 loops each)\n"
     ]
    }
   ],
   "source": [
    "with tf.Session() as sess:\n",
    "    with tf.device(\"/cpu:0\"):\n",
    "        %timeit sess.run(product)\n",
    "    \n",
    "    with tf.device(\"/gpu:1\"):\n",
    "        %timeit sess.run(product)"
   ]
  },
  {
   "cell_type": "markdown",
   "metadata": {},
   "source": [
    "上方例子使用cpu跟gpu分別計算執行時間  \n",
    "而設備的字串符標示, 目前支持的如下：  \n",
    "* `\"/cpu:0\"`: 這台電腦的CPU\n",
    "* `\"/gpu:0\"`: 這台電腦的第一張GPU, 如果有的話\n",
    "* `\"/gpu:1\"`: 這台電腦的第二張GPU, 以此類推"
   ]
  },
  {
   "cell_type": "markdown",
   "metadata": {},
   "source": [
    "## 4. 張量 Tensor\n",
    "tensorflow 中所有的數據結構都使用tensor來代表，它作為一個多維的數據，一般用`rank`,`shape`,`type`三種信息表示。  \n",
    "`rank`代表的就是tensor的維度, `shape`表達了維度以及內涵數據量, `type`則是內涵數據儲存格式。  \n",
    "\n",
    "維度|形狀|數學表示|實例\n",
    ":---|:---|:---|:---\n",
    "0-D|\\[\\]|純量(只有大小)|s=1\n",
    "1-D|\\[D0\\]|向量(大小和方向)|v=\\[1, 2, 3\\]\n",
    "2-D|\\[D0, D1\\]|矩陣(數據表)|m=\\[[1, 1], [2, 2]\\]\n",
    "3-D|\\[D0, D1, D2\\]|3維張量(立體)|t=\\[[[11, 11], [12, 12]], [[21, 21], [22, 22]]\\]"
   ]
  },
  {
   "cell_type": "markdown",
   "metadata": {},
   "source": [
    "## 5. 變量 Variable\n",
    "`變量 (Variable)`在 tensorflow 中扮演很重要的角色。  \n",
    "前面我們提到 tensor可以理解維多維的數組，但是事實上tensor的實現並不是直接採用數組的形式，它只是對tensorflow中運算結果的引用。  \n",
    "換句話說，tensor並沒有保存數字在其中，它保存的是如何得到這些數字的計算過程。  \n",
    "因此要真正存取tensor內部的數值，我們必須使用tensorflow提供的`變量 (variable)`。  "
   ]
  },
  {
   "cell_type": "code",
   "execution_count": 5,
   "metadata": {},
   "outputs": [
    {
     "name": "stdout",
     "output_type": "stream",
     "text": [
      "0 1 2 3 "
     ]
    }
   ],
   "source": [
    "# 創建一個 variable 初始化為 0\n",
    "counter = tf.Variable(0, name='counter')\n",
    "\n",
    "# 創建一個 op, 作用是使得 state+1\n",
    "one = tf.constant(1)\n",
    "new_value = tf.add(counter, one)\n",
    "update = tf.assign(counter, new_value)\n",
    "\n",
    "# 啟動圖後, 變量必須先經過 \"初始化 op\" 來初始化\n",
    "# 首先必須要先新增一個 \"初始化 op\" 到圖中\n",
    "init_op = tf.global_variables_initializer()\n",
    "\n",
    "# 啟動圖, 運行 op\n",
    "with tf.Session() as sess:\n",
    "    # 進行初始化, 印出state\n",
    "    sess.run(init_op)\n",
    "    print( sess.run(counter), end=' ' )\n",
    "    \n",
    "    # 運行op來持續更新state, 並持續印出state\n",
    "    for _ in range(3):\n",
    "        sess.run(update)\n",
    "        print( sess.run(counter), end=' ' )"
   ]
  },
  {
   "cell_type": "markdown",
   "metadata": {},
   "source": [
    "注意上方程式碼中，`assign()`操作是圖所描述的表達式的一部分，在呼叫`run()`執行之前並不會真正的執行。  \n",
    "因此一開始初始化後我們第一次印出的counter還是 0。  \n",
    "  \n",
    "通常我們會將一個模型中的參數表示為一組變量，例如神經網路的權重。  \n",
    "這樣就可以在訓練中反覆的更新這個變量。"
   ]
  },
  {
   "cell_type": "markdown",
   "metadata": {},
   "source": [
    "## 6. 取值 Fetch\n",
    "雖然不是特別的方法，但是一次取值總是比較方便的。  \n",
    "需要獲取多個tensor值，我們可以在一次運算中一起獲得，而不是逐個去取tensor。"
   ]
  },
  {
   "cell_type": "code",
   "execution_count": 11,
   "metadata": {},
   "outputs": [
    {
     "name": "stdout",
     "output_type": "stream",
     "text": [
      "[21.0, 7.0]\n"
     ]
    }
   ],
   "source": [
    "input1 = tf.constant(3.0)\n",
    "input2 = tf.constant(2.0)\n",
    "input3 = tf.constant(5.0)\n",
    "intermed = tf.add(input2, input3)\n",
    "mul = tf.multiply(input1, intermed)\n",
    "\n",
    "with tf.Session() as sess:\n",
    "    result = sess.run( [mul, intermed] )\n",
    "    print( result )"
   ]
  },
  {
   "cell_type": "markdown",
   "metadata": {},
   "source": [
    "## 7. 給值 Feed\n",
    "`feed`使用一個tensor值臨時替換一個操作的輸出結果，通常我們用在數據的輸入。  \n",
    "`feed`使用方法是在呼叫`run()`方法的時候作為參數傳入，也只在該方法內有效；方法結束，`feed`就消失。  \n",
    "我們通常使用`佔位符 placeholder()`用來存放資料的輸入，`feed`就是用來給`placeholder()`隨時替換下一筆資料。"
   ]
  },
  {
   "cell_type": "code",
   "execution_count": 30,
   "metadata": {},
   "outputs": [
    {
     "name": "stdout",
     "output_type": "stream",
     "text": [
      "[ 14.]\n"
     ]
    }
   ],
   "source": [
    "input1 = tf.placeholder(tf.float32)\n",
    "input2 = tf.placeholder(tf.float32)\n",
    "output = tf.multiply(input1, input2)\n",
    "\n",
    "with tf.Session() as sess:\n",
    "    print( sess.run(output, feed_dict={input1:[7.], input2:[2.]}) )"
   ]
  },
  {
   "cell_type": "code",
   "execution_count": null,
   "metadata": {},
   "outputs": [],
   "source": []
  },
  {
   "cell_type": "code",
   "execution_count": null,
   "metadata": {},
   "outputs": [],
   "source": []
  },
  {
   "cell_type": "code",
   "execution_count": null,
   "metadata": {},
   "outputs": [],
   "source": []
  },
  {
   "cell_type": "code",
   "execution_count": null,
   "metadata": {},
   "outputs": [],
   "source": []
  }
 ],
 "metadata": {
  "kernelspec": {
   "display_name": "Python 3",
   "language": "python",
   "name": "python3"
  },
  "language_info": {
   "codemirror_mode": {
    "name": "ipython",
    "version": 3
   },
   "file_extension": ".py",
   "mimetype": "text/x-python",
   "name": "python",
   "nbconvert_exporter": "python",
   "pygments_lexer": "ipython3",
   "version": "3.6.5"
  },
  "toc": {
   "base_numbering": 1,
   "nav_menu": {},
   "number_sections": true,
   "sideBar": true,
   "skip_h1_title": false,
   "title_cell": "Table of Contents",
   "title_sidebar": "Contents",
   "toc_cell": false,
   "toc_position": {
    "height": "calc(100% - 180px)",
    "left": "10px",
    "top": "150px",
    "width": "256px"
   },
   "toc_section_display": true,
   "toc_window_display": false
  }
 },
 "nbformat": 4,
 "nbformat_minor": 2
}
