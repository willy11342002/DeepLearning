{
 "cells": [
  {
   "cell_type": "markdown",
   "metadata": {},
   "source": [
    "# TensorFlow\n",
    "---"
   ]
  },
  {
   "cell_type": "markdown",
   "metadata": {},
   "source": [
    "我們前面兩章都使用的簡單地梯度下降法, 這章我們試著更深入了解梯度下降, 試著解析這種做法的利弊.  \n",
    "在一開始我們先試著透過新的運算來繪製誤差曲面, 這要仰賴前面的模型, 而這會幫助我們更了解整個梯度的運作.  "
   ]
  },
  {
   "cell_type": "markdown",
   "metadata": {},
   "source": [
    "## 目標\n",
    "* 學習讀取`pretrained model`(如果上一章練習不夠)\n",
    "* 學習對`pretrained model`進行修改\n",
    "* 更深刻了解`梯度 (gardient)`\n",
    "* `優化器 optimization`的簡單介紹"
   ]
  },
  {
   "cell_type": "markdown",
   "metadata": {},
   "source": [
    "## 索引\n",
    "### [1 讀取模型](#1.-讀取模型)\n",
    "### [2 修改模型](#2.-修改模型)\n",
    "### [3 繪製誤差曲面](#3.-繪製誤差曲面)\n",
    "### [4 優化器](#4.-優化器)\n",
    "[4.1 Momentum](#4.1-Momentum)  \n",
    "[4.2 AdaGrad](#4.2-AdaGrad)  \n",
    "[4.3 AdaDelta](#4.3-AdaDelta)  \n",
    "[4.4 RMSProp](#4.4-RMSProp)  \n",
    "[4.5 Adam](#4.5-Adam)"
   ]
  },
  {
   "cell_type": "markdown",
   "metadata": {},
   "source": [
    "## 1. 讀取模型"
   ]
  },
  {
   "cell_type": "code",
   "execution_count": 1,
   "metadata": {},
   "outputs": [],
   "source": [
    "# 為了簡化程式碼, 我把inference, loss寫到my_model這個python程式中, 就不用在這裡定義.\n",
    "from my_model import inference, loss, training, evaluate\n",
    "\n",
    "import input_data\n",
    "import tensorflow as tf\n",
    "import numpy as np\n",
    "import pandas as pd\n",
    "import matplotlib.pyplot as plt"
   ]
  },
  {
   "cell_type": "code",
   "execution_count": 2,
   "metadata": {},
   "outputs": [
    {
     "name": "stdout",
     "output_type": "stream",
     "text": [
      "Extracting datasets\\train-images-idx3-ubyte.gz\n",
      "Extracting datasets\\train-labels-idx1-ubyte.gz\n",
      "Extracting datasets\\t10k-images-idx3-ubyte.gz\n",
      "Extracting datasets\\t10k-labels-idx1-ubyte.gz\n"
     ]
    }
   ],
   "source": [
    "# 載入資料, 記得one_hot, 我常常忘記\n",
    "mnist = input_data.read_data_sets('datasets', one_hot=True)"
   ]
  },
  {
   "cell_type": "markdown",
   "metadata": {},
   "source": [
    "載入模型, 動作都跟上一章提到的一樣.  \n",
    "記得x, y都要拿出來, 因為我們要用feed_dict來替換.  \n",
    "千萬要記得, 不要使用新的變數去定義, 看圖會發現我們需要本來的x, y才能正確`feed`"
   ]
  },
  {
   "cell_type": "code",
   "execution_count": 3,
   "metadata": {},
   "outputs": [
    {
     "name": "stdout",
     "output_type": "stream",
     "text": [
      "INFO:tensorflow:Restoring parameters from ml_logs\\model-checkpoint-42900\n"
     ]
    }
   ],
   "source": [
    "sess = tf.Session()\n",
    "\n",
    "saver = tf.train.import_meta_graph('ml_logs/model-checkpoint-42900.meta')\n",
    "saver.restore(sess, tf.train.latest_checkpoint('ml_logs'))\n",
    "\n",
    "g = tf.get_default_graph()\n",
    "\n",
    "x = g.get_tensor_by_name('x:0')\n",
    "y = g.get_tensor_by_name('y:0')"
   ]
  },
  {
   "cell_type": "markdown",
   "metadata": {},
   "source": [
    "取出隱藏層的神經元跟權重向量, 這時候取出的是我們訓練完畢的權重.  "
   ]
  },
  {
   "cell_type": "code",
   "execution_count": 4,
   "metadata": {},
   "outputs": [],
   "source": [
    "var_list_opt = ['hidden_1/w:0', 'hidden_1/b:0', 'hidden_2/w:0', 'hidden_2/b:0', 'output/w:0', 'output/b:0']\n",
    "var_list_opt = [v for v in tf.trainable_variables() if v.name in var_list_opt]"
   ]
  },
  {
   "cell_type": "markdown",
   "metadata": {},
   "source": [
    "## 2. 修改模型"
   ]
  },
  {
   "cell_type": "markdown",
   "metadata": {},
   "source": [
    "我們或許會因為某些需求, 先將某些步驟訓練完成後加進其他模型中,  \n",
    "或者我們需要使用別人訓練好的模型, 又或者我們只是想要對模型做一些微調.  \n",
    "這時候我們就需要試著去修改別人寫好的模型.  "
   ]
  },
  {
   "cell_type": "markdown",
   "metadata": {},
   "source": [
    "* 隨機初始化一個同樣結構的模型, 等等就可以透過這個未訓練的模型來看到整個梯度的曲線.  "
   ]
  },
  {
   "cell_type": "code",
   "execution_count": 5,
   "metadata": {},
   "outputs": [],
   "source": [
    "# 使用variable_scope()方法, 可以對變數名稱動手腳, 不會真正使用同名的變數\n",
    "with tf.variable_scope('ml_rand') as scope:\n",
    "    h1_rand, h2_rand, output_rand = inference(x)\n",
    "    cost_rand = loss(output_rand, y)\n",
    "    \n",
    "    # 這邊由於會重複名字, 所以要告訴它我要用重複名字的變數, 不燃tensorflow會抱怨\n",
    "    scope.reuse_variables()\n",
    "    \n",
    "    var_list_rand = [\"hidden_1/w\", \"hidden_1/b\", \"hidden_2/w\", \"hidden_2/b\", \"output/w\", \"output/b\"]\n",
    "    var_list_rand = [tf.get_variable(v) for v in var_list_rand]\n",
    "    \n",
    "    # 接著我們要針對這些變數初始化\n",
    "    init_op = tf.variables_initializer(var_list_rand)\n",
    "    sess.run(init_op)"
   ]
  },
  {
   "cell_type": "markdown",
   "metadata": {},
   "source": [
    "定義一個全新的運算內容, 我們設定了佔位符`alpha`.  \n",
    "透過`alpha`的改變, 我們等等可以看到一個二維的梯度曲面.  \n",
    "有興趣的話可以試著做出三維, 不過權重的初始化或許就不能使用隨機了.  "
   ]
  },
  {
   "cell_type": "code",
   "execution_count": 6,
   "metadata": {},
   "outputs": [],
   "source": [
    "# 同樣給了新的運算單元一個獨特的命名空間, 這會讓裡面定義的運算都加上這個名稱前綴.\n",
    "with tf.variable_scope('ml_inter') as scope:\n",
    "    # 加入alpha的佔位符, shape=[1, 1], 這代表不論傳入多少x, y, 我們都用同一個alpha去計算\n",
    "    alpha = tf.placeholder('float', [1, 1])\n",
    "    \n",
    "    # 設計運算元的內容, 每個權重與神經元都被設計到一個方向上\n",
    "    # alpha趨近於0的時候, 計算出的結果會落在我們訓練完畢的模型上\n",
    "    # alpha遠離0的時候, 結果則會遠離我們本來訓練完成的結果\n",
    "    h1_W_inter = var_list_opt[0] * (1 - alpha) + var_list_rand[0] * (alpha)\n",
    "    h1_b_inter = var_list_opt[1] * (1 - alpha) + var_list_rand[1] * (alpha)\n",
    "    h2_W_inter = var_list_opt[2] * (1 - alpha) + var_list_rand[2] * (alpha)\n",
    "    h2_b_inter = var_list_opt[3] * (1 - alpha) + var_list_rand[3] * (alpha)\n",
    "    o_W_inter = var_list_opt[4] * (1 - alpha) + var_list_rand[4] * (alpha)\n",
    "    o_b_inter = var_list_opt[5] * (1 - alpha) + var_list_rand[5] * (alpha)\n",
    "    \n",
    "    # 將修改完得節點與權重丟到relu運算, 這步驟僅僅仿照原始的模型\n",
    "    h1_inter = tf.nn.relu(tf.matmul(x, h1_W_inter) + h1_b_inter)\n",
    "    h2_inter = tf.nn.relu(tf.matmul(h1_inter, h2_W_inter) + h2_b_inter)\n",
    "    o_inter = tf.nn.relu(tf.matmul(h2_inter, o_W_inter) + o_b_inter)\n",
    "    \n",
    "    # 使用新的輸出來計算誤差\n",
    "    cost_inter = loss(o_inter, y)"
   ]
  },
  {
   "cell_type": "markdown",
   "metadata": {},
   "source": [
    "## 3. 繪製誤差曲面"
   ]
  },
  {
   "cell_type": "markdown",
   "metadata": {},
   "source": [
    "有了新的運算單元後我們就可以帶入不同的數字進去.  \n",
    "這個新的運算單元我們不訓練, 而是透過帶入不同的alpha值, 了解當下的誤差.  \n",
    "整個運算單元的概念再複習一下:  \n",
    "1. 首先我們有一個隨機初始化的模型, `model rand`\n",
    "2. 接著我們有一個學習完畢後的模型, `model opt`\n",
    "3. 透過修改`alpha`, 誤差會在這兩個模型連成的直線上移動\n",
    "4. 換句話說我們強迫誤差曲面從高維度, 降成了二維的空間"
   ]
  },
  {
   "cell_type": "code",
   "execution_count": 7,
   "metadata": {},
   "outputs": [],
   "source": [
    "# 建立一個 numpy array 來接收在不同 alpha 下的誤差\n",
    "results = np.zeros( np.arange(-2, 2, 0.02).shape )\n",
    "\n",
    "# 將 alpha 設定在 -2~2 之間, 每隔 0.02 就計算一次當下的誤差\n",
    "for idx, a in enumerate( np.arange(-2, 2, 0.02) ):\n",
    "    # 先將每次要傳進去的 x, y, alpha 寫在 feed_dict中\n",
    "    feed_dict = {\n",
    "        x: mnist.test.images,\n",
    "        y: mnist.test.labels,\n",
    "        alpha: [[a]],\n",
    "    }\n",
    "    \n",
    "    # 每次算出誤差, 就把剛剛先填上零的 numpy array 對應的值修改掉\n",
    "    cost = sess.run(cost_inter, feed_dict)\n",
    "    results[idx]=cost"
   ]
  },
  {
   "cell_type": "code",
   "execution_count": 8,
   "metadata": {},
   "outputs": [
    {
     "data": {
      "image/png": "[encoded data removed]",
      "text/plain": [
       "<Figure size 432x288 with 1 Axes>"
      ]
     },
     "metadata": {},
     "output_type": "display_data"
    }
   ],
   "source": [
    "# 畫出我們剛剛算出來的數字\n",
    "plt.plot(np.arange(-2, 2, 0.02), results, 'ro')\n",
    "plt.ylabel('Incurred Error')\n",
    "plt.xlabel('Alpha')\n",
    "plt.show()"
   ]
  },
  {
   "cell_type": "markdown",
   "metadata": {},
   "source": [
    "上圖, 我們把曲面強制設定在了一個方向上.  \n",
    "這讓我們看到了`鞍點`, 同時這也解釋了上一章有時候會沒辦法收斂的原因, 其實就只是訓練不夠而已, 總是能夠繼續前進的.  \n",
    "也就是說, 如果我們能夠確定前進的方向, 那麼`鞍點`是不能阻止我們的.  \n",
    "此外, 在2014年還有一個研究指出, 在能夠確定方向的前提下, `局部極小值`並不會造成梯度下降過程的麻煩.  \n",
    "***我們最終只有一個問題, 那就是我們要找到前進的方向.***  "
   ]
  },
  {
   "cell_type": "markdown",
   "metadata": {},
   "source": [
    "---"
   ]
  },
  {
   "cell_type": "markdown",
   "metadata": {},
   "source": [
    "## 4. 優化器"
   ]
  },
  {
   "cell_type": "code",
   "execution_count": 33,
   "metadata": {},
   "outputs": [],
   "source": [
    "# 設定參數, 跑 50 次迭代, 每個小批次設定為128, 每 10 次迭代我們才印一次誤差\n",
    "epochs=50 \n",
    "batch_size=128\n",
    "state=10"
   ]
  },
  {
   "cell_type": "markdown",
   "metadata": {},
   "source": [
    "這邊我們重新定義訓練方法, 優化器我們用參數的方式傳遞.  \n",
    "這能夠方便我們傳入不同的優化器, 使用不同的方式做迭代."
   ]
  },
  {
   "cell_type": "code",
   "execution_count": 9,
   "metadata": {},
   "outputs": [],
   "source": [
    "def training(cost, global_step, optimizer):   \n",
    "    train_op = optimizer.minimize(cost, global_step=global_step)\n",
    "    \n",
    "    return train_op"
   ]
  },
  {
   "cell_type": "markdown",
   "metadata": {},
   "source": [
    "我們將`創建模型`、`訓練模型`、`印出預測`的過程包成一個方法.  \n",
    "這樣等等我們就不用重複打上這麼長的程式碼, 可以很簡潔的表達我們每次跑出一個新的模型的過程.  "
   ]
  },
  {
   "cell_type": "code",
   "execution_count": 68,
   "metadata": {
    "scrolled": true
   },
   "outputs": [],
   "source": [
    "def run_a_model(name, optimizer):\n",
    "    with tf.variable_scope(name, reuse=tf.AUTO_REUSE) as scope:\n",
    "\n",
    "        global_step_momentum = tf.Variable(0, name='global_step', trainable=False)\n",
    "\n",
    "        h1_momentum, h2_momentum, output_momentum = inference(x)\n",
    "        cost_momentum = loss(output_momentum, y)\n",
    "        training_momentum = training(cost_momentum, global_step_momentum, optimizer)\n",
    "        evaluate_momentum = evaluate(output_momentum, y)\n",
    "\n",
    "        var_list_momentum = ['hidden_1/w', 'hidden_1/b', 'hidden_2/w', 'hidden_2/b', 'output/w', 'output/b']\n",
    "        var_list_momentum = [tf.get_variable(v) for v in var_list_momentum]\n",
    "\n",
    "        init_momentum = tf.global_variables_initializer()\n",
    "        sess.run(init_momentum)\n",
    "\n",
    "        for epoch in range(epochs):\n",
    "            total_batch = mnist.train.num_examples//batch_size\n",
    "\n",
    "            for i in range(total_batch):\n",
    "                mbatch_x, mbatch_y = mnist.train.next_batch(batch_size)\n",
    "                sess.run(training_momentum, feed_dict={x:mbatch_x, y:mbatch_y})\n",
    "\n",
    "            if epoch % state == 0:\n",
    "                train_accuracy = sess.run(evaluate_momentum, feed_dict={x:mnist.train.images, y:mnist.train.labels})\n",
    "                val_accuracy = sess.run(evaluate_momentum, feed_dict={x:mnist.validation.images, y:mnist.validation.labels})\n",
    "                print('Epochs:', '%04d' % (epoch+1), 'train_error:', (1-train_accuracy), 'val_error:', (1-val_accuracy))\n",
    "\n",
    "        print('Optimization Finished!')\n",
    "\n",
    "        accuracy = sess.run(evaluate_momentum, feed_dict={x:mnist.test.images, y:mnist.test.labels})\n",
    "        print('Test Accuracy:', accuracy)"
   ]
  },
  {
   "cell_type": "markdown",
   "metadata": {},
   "source": [
    "### 4.1 Momentum"
   ]
  },
  {
   "cell_type": "markdown",
   "metadata": {},
   "source": [
    "源自於當我們丟一顆球在一個漏斗中, 這顆球會隨著坡度向下最終會到達漏斗底部的這個概念.  \n",
    "在迭代的過程中加入了動能, 每次更新方向時判斷現在要繼續加速還是現在要減速.  \n",
    "如果連續的往同樣方向前進, 那速率會提高, 我們就能更快收斂.  \n",
    "但是如果方向改變, 那速率會減緩.  "
   ]
  },
  {
   "cell_type": "code",
   "execution_count": 45,
   "metadata": {
    "scrolled": true
   },
   "outputs": [
    {
     "name": "stdout",
     "output_type": "stream",
     "text": [
      "Epochs: 0001 train_error: 0.144472718239 val_error: 0.154799997807\n",
      "Epochs: 0011 train_error: 0.00281816720963 val_error: 0.0188000202179\n",
      "Epochs: 0021 train_error: 3.6358833313e-05 val_error: 0.0175999999046\n",
      "Epochs: 0031 train_error: 3.6358833313e-05 val_error: 0.0166000127792\n",
      "Epochs: 0041 train_error: 1.81794166565e-05 val_error: 0.0167999863625\n",
      "Optimization Finished!\n",
      "Test Accuracy: 0.9815\n"
     ]
    }
   ],
   "source": [
    "# 使用 momentum 的演算法進行迭代\n",
    "optimizer = tf.train.MomentumOptimizer(0.02, 0.9)\n",
    "run_a_model('momentum', optimizer)"
   ]
  },
  {
   "cell_type": "markdown",
   "metadata": {},
   "source": [
    "### 4.2 AdaGrad"
   ]
  },
  {
   "cell_type": "markdown",
   "metadata": {},
   "source": [
    "這是在2011年被提出的演算法, 我們在前面的優化器中, 對各個權重都是用固定的`learning rate`.  \n",
    "但是我們也可以想像, 不同的參數重要性肯定是不一樣的, 因此考量每個參數用不同的`learning rate`總是一個很吸引人的想法.  \n",
    "`AdaGrad`就從這裡出發, 它對過去的梯度做了平方累加, 再開根號, 接著用一開始設定的`learning rate`除這個數.  \n",
    "得到的效果除了每個參數不同之外, 還會隨著迭代次數增加速率遞減, 所以一開始可以設定一個較大的`learning rate`.  \n",
    "但是也由於這個特性的關係, `AdaGrad`會讓速率下降, 在很多模型中表現會比較不好."
   ]
  },
  {
   "cell_type": "code",
   "execution_count": 34,
   "metadata": {},
   "outputs": [
    {
     "name": "stdout",
     "output_type": "stream",
     "text": [
      "Epochs: 0001 train_error: 0.164418160915 val_error: 0.160000026226\n",
      "Epochs: 0011 train_error: 0.00474548339844 val_error: 0.0181999802589\n",
      "Epochs: 0021 train_error: 0.000363647937775 val_error: 0.0149999856949\n",
      "Epochs: 0031 train_error: 0.000109076499939 val_error: 0.0149999856949\n",
      "Epochs: 0041 train_error: 9.08970832825e-05 val_error: 0.0149999856949\n",
      "Optimization Finished!\n",
      "Test Accuracy: 0.9811\n"
     ]
    }
   ],
   "source": [
    "# 使用 AdaGrad 進行迭代\n",
    "optimizer = tf.train.AdagradOptimizer(0.05)\n",
    "run_a_model('AdaGrad', optimizer)"
   ]
  },
  {
   "cell_type": "markdown",
   "metadata": {},
   "source": [
    "### 4.3 AdaDelta"
   ]
  },
  {
   "cell_type": "markdown",
   "metadata": {},
   "source": [
    "這是`AdaGrad`的修正版, 減緩了對於一開始設定的`learning rate`的依賴.  \n",
    "除此之外, 也減緩了速率持續下降導致更新速度變慢的問題.  \n",
    "最終的效果有點類似`momentum`, 會加速收斂的效果."
   ]
  },
  {
   "cell_type": "code",
   "execution_count": 79,
   "metadata": {
    "scrolled": true
   },
   "outputs": [
    {
     "name": "stdout",
     "output_type": "stream",
     "text": [
      "Epochs: 0001 train_error: 0.123000025749 val_error: 0.11519998312\n",
      "Epochs: 0011 train_error: 0.0471454262733 val_error: 0.0450000166893\n",
      "Epochs: 0021 train_error: 0.0316545367241 val_error: 0.033999979496\n",
      "Epochs: 0031 train_error: 0.0230363607407 val_error: 0.027999997139\n",
      "Epochs: 0041 train_error: 0.0185454487801 val_error: 0.0243999958038\n",
      "Optimization Finished!\n",
      "Test Accuracy: 0.9745\n"
     ]
    }
   ],
   "source": [
    "# 使用 AdaDelta 進行迭代\n",
    "optimizer = tf.train.AdadeltaOptimizer(0.1)\n",
    "run_a_model('AdaDelta', optimizer)"
   ]
  },
  {
   "cell_type": "markdown",
   "metadata": {},
   "source": [
    "### 4.4 RMSProp"
   ]
  },
  {
   "cell_type": "markdown",
   "metadata": {},
   "source": [
    "這個演算法是前面的演算法的延伸, 加入了`衰減係數`決定要保留多久以前的值來計算.  \n",
    "整個演算法的效果大概介於`momentum`跟`adagrad`之間. "
   ]
  },
  {
   "cell_type": "code",
   "execution_count": 61,
   "metadata": {
    "scrolled": true
   },
   "outputs": [
    {
     "name": "stdout",
     "output_type": "stream",
     "text": [
      "Epochs: 0001 train_error: 0.152581810951 val_error: 0.152000010014\n",
      "Epochs: 0011 train_error: 0.0217818021774 val_error: 0.0333999991417\n",
      "Epochs: 0021 train_error: 0.0131999850273 val_error: 0.0296000242233\n",
      "Epochs: 0031 train_error: 0.00965452194214 val_error: 0.0266000032425\n",
      "Epochs: 0041 train_error: 0.00660002231598 val_error: 0.0266000032425\n",
      "Optimization Finished!\n",
      "Test Accuracy: 0.9761\n"
     ]
    }
   ],
   "source": [
    "optimizer = tf.train.RMSPropOptimizer(0.01)\n",
    "run_a_model('RMSProp', optimizer)"
   ]
  },
  {
   "cell_type": "markdown",
   "metadata": {},
   "source": [
    "### 4.5 Adam"
   ]
  },
  {
   "cell_type": "markdown",
   "metadata": {},
   "source": [
    "這又是組合了前面, 將`momentum`與`RMSProp`做了結合.  \n",
    "在整個更新過程中都會保持一個平穩的下降, 在近年越來越受歡迎.  "
   ]
  },
  {
   "cell_type": "code",
   "execution_count": 85,
   "metadata": {},
   "outputs": [
    {
     "name": "stdout",
     "output_type": "stream",
     "text": [
      "Epochs: 0001 train_error: 0.131072700024 val_error: 0.139599978924\n",
      "Epochs: 0011 train_error: 0.106218159199 val_error: 0.125999987125\n",
      "Epochs: 0021 train_error: 0.105709075928 val_error: 0.127200007439\n",
      "Epochs: 0031 train_error: 0.106109082699 val_error: 0.124599993229\n",
      "Epochs: 0041 train_error: 0.104690909386 val_error: 0.125800013542\n",
      "Optimization Finished!\n",
      "Test Accuracy: 0.8827\n"
     ]
    }
   ],
   "source": [
    "optimizer = tf.train.AdamOptimizer()\n",
    "run_a_model('Adam', optimizer)"
   ]
  },
  {
   "cell_type": "markdown",
   "metadata": {},
   "source": [
    "當我們的迭代碰上平緩曲面, 這種時候使用動能類型的優化器能夠加快我們脫離泥沼的速度.  \n",
    "而當碰上了陡峭的曲面, 使用平穩的優化器又能夠確保不要跑太遠.  \n",
    "就是因為不同的情況適合的不同的演算法, 所以有了各種各樣的優化器供我們選擇.  \n",
    "因應不同的情況知道怎麼選擇演算法固然是好事.  \n",
    "但是實際上在深度學習領域獲得重大突破的往往不是與誤差曲面進行搏鬥的這部分.  \n",
    "而是模型的創建, 因此這一篇放在入門是希望大家看完有點印象, 但是千萬不要鑽研在這上面."
   ]
  },
  {
   "cell_type": "code",
   "execution_count": null,
   "metadata": {},
   "outputs": [],
   "source": []
  }
 ],
 "metadata": {
  "kernelspec": {
   "display_name": "Python 3",
   "language": "python",
   "name": "python3"
  },
  "language_info": {
   "codemirror_mode": {
    "name": "ipython",
    "version": 3
   },
   "file_extension": ".py",
   "mimetype": "text/x-python",
   "name": "python",
   "nbconvert_exporter": "python",
   "pygments_lexer": "ipython3",
   "version": "3.6.5"
  }
 },
 "nbformat": 4,
 "nbformat_minor": 2
}
