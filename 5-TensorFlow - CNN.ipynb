{
 "cells": [
  {
   "cell_type": "markdown",
   "metadata": {},
   "source": [
    "# TensorFlow - CNN - MNIST"
   ]
  },
  {
   "cell_type": "markdown",
   "metadata": {},
   "source": [
    "---"
   ]
  },
  {
   "cell_type": "markdown",
   "metadata": {},
   "source": [
    "## 目標\n",
    "* 了解`卷積神經網路 (CNN)`基本架構\n",
    "* 撰寫`CNN`常用的層"
   ]
  },
  {
   "cell_type": "markdown",
   "metadata": {},
   "source": [
    "## 索引\n",
    "### [1 載入資料](#1.-載入資料)\n",
    "### [2 卷積神經網路 CNN](#2.-卷積神經網路-CNN)\n",
    "[2.1 卷積層 Convolution](#2.1-卷積層-Convolution)  \n",
    "[2.2 池化層 MaxPooling](#2.2-池化層-MaxPooling)  \n",
    "[2.3 推測](#2.3-推測)  \n",
    "[2.4 建立模型](#2.4-建立模型)  \n",
    "\n",
    "### [3 權重輸出](#3.-權重輸出)\n",
    "[3.1 模型讀取](#3.1-模型讀取)  \n",
    "[3.2 取各層節點輸出](#3.2-取各層節點輸出)  \n",
    "[3.3 各類別的索引](#3.3-各類別的索引)  \n",
    "[3.4 畫出輸出](#3.4-畫出輸出)  \n",
    "\n",
    "### [4 總結](#4.-總結)"
   ]
  },
  {
   "cell_type": "markdown",
   "metadata": {},
   "source": [
    "## 1. 載入資料"
   ]
  },
  {
   "cell_type": "code",
   "execution_count": 1,
   "metadata": {},
   "outputs": [],
   "source": [
    "from my_model import layer, loss, training_no_optimizer, evaluate\n",
    "import tensorflow as tf\n",
    "import numpy as np\n",
    "import pandas as pd\n",
    "import matplotlib.pyplot as plt\n",
    "import seaborn as sns\n",
    "sns.set()"
   ]
  },
  {
   "cell_type": "code",
   "execution_count": 2,
   "metadata": {},
   "outputs": [
    {
     "name": "stdout",
     "output_type": "stream",
     "text": [
      "Extracting datasets/mnist\\train-images-idx3-ubyte.gz\n",
      "Extracting datasets/mnist\\train-labels-idx1-ubyte.gz\n",
      "Extracting datasets/mnist\\t10k-images-idx3-ubyte.gz\n",
      "Extracting datasets/mnist\\t10k-labels-idx1-ubyte.gz\n"
     ]
    }
   ],
   "source": [
    "import input_data\n",
    "\n",
    "mnist = input_data.read_data_sets('datasets/mnist', one_hot=True)"
   ]
  },
  {
   "cell_type": "markdown",
   "metadata": {},
   "source": [
    "## 2. 卷積神經網路 CNN"
   ]
  },
  {
   "cell_type": "markdown",
   "metadata": {},
   "source": [
    "<img style='float:right;' width='35%' src=\"https://www.researchgate.net/profile/Jaime_Gallego2/publication/318168077/figure/fig1/AS:578190894927872@1514862859810/AlexNet-CNN-architecture-layers.png\">\n",
    "在機器視覺得這個領域, 一直到卷積網路出現以前都是一個非常困難的問題.  \n",
    "在過去, 通常都是由人工設計特徵, 在交給電腦去進行學習, 有時候特徵可能高達好幾百或好幾千個.  \n",
    "假設一開始人工挑選特徵是適當的, 那麼確實能夠取得不錯的成果, 但是耗日費時.  \n",
    "直到 2012 年, 由多倫多大學實驗室開創了`CNN`的深度學習架構, 在當年的比賽中刷新了比賽的紀錄.  \n",
    "這一套真正把深度學習帶進電腦視覺的領域的網路架構, 叫做`AlexNet`, 有興趣可以去查查文件.  \n"
   ]
  },
  {
   "cell_type": "markdown",
   "metadata": {},
   "source": [
    "### 2.1 卷積層 Convolution"
   ]
  },
  {
   "cell_type": "markdown",
   "metadata": {},
   "source": [
    "<img style='float:left;' width='20%'  src=\"https://cdn-images-1.medium.com/max/1600/1*ZCjPUFrB6eHPRi4eyP6aaA.gif\" >\n",
    "卷積層的運作原理是模仿大腦對視覺的觸發, 人腦在看到東西時, 有的神經元只有在看到垂直線條時被觸發, 而有的只有在看到水平線被觸發.  \n",
    "而視覺皮層是分層的結構, 每一層都根據前一層所偵測到的特徵進一步分析特徵, 直到整個物體.  \n",
    "而這個就是卷積層的概念, 也就是`特徵偵測器 (feature detector)`, 圖中是一個卷積神經元的運作.  \n",
    "我們通常直接把這個操作叫做`過濾器`, `過濾器`會用數值的方式計算圖中哪邊有特徵出現, 然後傳給下一層.  \n",
    "透過多層次的卷積操作, 網路會得到大量的全新的特徵, 利用這些特徵來進行最後的分類, 這就是當初卷積神經網路的設計架構.  "
   ]
  },
  {
   "cell_type": "markdown",
   "metadata": {},
   "source": [
    "首先, 接收的輸入具有以下的特徵:\n",
    "1. `寬度 w` 輸入的圖片寬度\n",
    "2. `高度 h` 輸入的圖片高度\n",
    "3. `深度 d` 又稱作通道數, 一般彩圖的通道數是3, 黑白圖片是1\n",
    "4. `空白填充值 p` 由卷積層自動補上, 這是為了讓圖片的寬度高度不要因為卷積操作而改變  \n",
    "\n",
    "一個卷積層中, 我們會設定幾個超參數如下:\n",
    "1. `空間範圍 spatial extent` 過濾器的寬度和高度\n",
    "2. `步輻 stride` 每次過濾器移動的距離  \n",
    "\n",
    "\n"
   ]
  },
  {
   "cell_type": "code",
   "execution_count": 3,
   "metadata": {},
   "outputs": [],
   "source": [
    "def conv2d(inputs, weight_shape, bias_shape):\n",
    "    ''' 定義卷積層, 固定strides=1, padding='SAME' '''\n",
    "    \n",
    "    # kernel的形狀\n",
    "    size = weight_shape[0] * weight_shape[1] * weight_shape[2]\n",
    "    \n",
    "    # 初始化權重跟神經元\n",
    "    weight_init = tf.random_normal_initializer(stddev=(2.0/size)**0.5)\n",
    "    bias_init = tf.constant_initializer(value=0)\n",
    "    w = tf.get_variable('w', weight_shape, initializer=weight_init)\n",
    "    b = tf.get_variable('b', bias_shape, initializer=bias_init)\n",
    "    \n",
    "    # 卷積計算, 注意要做一個 2D_CONV 運算, inputs, filter 需要輸入 4D\n",
    "    # inputs : [num_of_examples, width, height, channel] -- 4D\n",
    "    # strides : [filter_height, filter_width, in_channels, out_channels] -- 4D\n",
    "    conv = tf.nn.conv2d(inputs, w, strides=[1, 1, 1, 1], padding='SAME')\n",
    "    \n",
    "    # 加上誤差項後用, relu 輸出\n",
    "    relu = tf.nn.relu(tf.nn.bias_add(conv, b))\n",
    "    \n",
    "    return relu"
   ]
  },
  {
   "cell_type": "markdown",
   "metadata": {},
   "source": [
    "### 2.2 池化層 MaxPooling"
   ]
  },
  {
   "cell_type": "markdown",
   "metadata": {},
   "source": [
    "<img style='float:left' width='30%' src=\"https://dn-anything-about-doc.qbox.me/document-uid49570labid2914timestamp1494492666030.png\">\n",
    "圖中是一個池化的示意圖, 池化可以很有效的減少參數數量.  \n",
    "還有一個特點就是`局部不變 locally invariant`的特性, 這讓我們即使輸入的資料有偏差, 還是可以保持輸出.  "
   ]
  },
  {
   "cell_type": "code",
   "execution_count": 4,
   "metadata": {},
   "outputs": [],
   "source": [
    "def max_pool(inputs, k=2):\n",
    "    ''' 定義最大池化層, 固定padding=\"SAME\" '''\n",
    "    \n",
    "    # 設定池化參數, ksize是池化的空間範圍, strides是池化移動步伐\n",
    "    pool = tf.nn.max_pool(inputs, ksize=[1, k, k, 1], strides=[1, k, k, 1], padding='SAME')\n",
    "    \n",
    "    return pool"
   ]
  },
  {
   "cell_type": "markdown",
   "metadata": {},
   "source": [
    "### 2.3 推測"
   ]
  },
  {
   "cell_type": "markdown",
   "metadata": {},
   "source": [
    "由於我們有了全新的層, 透過這兩個層我們可以設計`AlexNet`的網路架構了.  \n",
    "在標準的`CNN`設計架構的發展如下：\n",
    "* inputs => conv => dense => softmax => output\n",
    "* inputs => conv => pool => dense => soft => output\n",
    "* inputs => 3x (conv, conv, pool) => 2x dense => softmax => output\n",
    "* inputs => 2x (conv, conv, pool) => 3x (conv, conv, conv, pool) => dense => dense => softmax => output  \n",
    "\n",
    "最下面這個就是後來很有名的`VGGNet`網路架構."
   ]
  },
  {
   "cell_type": "code",
   "execution_count": 5,
   "metadata": {},
   "outputs": [],
   "source": [
    "def inference(x, keep_prob):\n",
    "    # 將資料轉換成 [num_of_examples, widths, heights, channels] 結構. \n",
    "    x = tf.reshape(x, shape=[-1, 28, 28, 1])\n",
    "    \n",
    "    # 進行兩次 卷積+池化 操作\n",
    "    with tf.variable_scope('conv_1'):\n",
    "        conv_1 = conv2d(x, [3, 3, 1, 16], [16])\n",
    "        pool_1 = max_pool(conv_1) # shape=[-1, 14, 14, 32]\n",
    "    with tf.variable_scope('conv_2'):\n",
    "        conv_2 = conv2d(pool_1, [3, 3, 16, 64], [64])\n",
    "        pool_2 = max_pool(conv_2) # shape=[-1, 7, 7, 64]\n",
    "        \n",
    "    # 將資料展開, 設定 drop out 防止 overfitting\n",
    "    with tf.variable_scope('fc'):\n",
    "        pool_2_flat = tf.reshape(pool_2, shape=[-1, 7 * 7 * 64])\n",
    "        fc_1 = layer(pool_2_flat, [7*7*64, 1024], [1024])\n",
    "        fc_1_drop = tf.nn.dropout(fc_1, keep_prob)\n",
    "        \n",
    "    # 將資料丟到全連結層輸出\n",
    "    with tf.variable_scope('output'):\n",
    "        output = layer(fc_1_drop, [1024, 10], [10])\n",
    "        \n",
    "    return np.array([conv_1, conv_2, output])"
   ]
  },
  {
   "cell_type": "markdown",
   "metadata": {},
   "source": [
    "### 2.4 建立模型"
   ]
  },
  {
   "cell_type": "code",
   "execution_count": 6,
   "metadata": {
    "scrolled": false
   },
   "outputs": [],
   "source": [
    "def run_a_model(logdir='logs/cnn_model', epochs=50, batch_size=128):\n",
    "    with tf.Graph().as_default() as g:\n",
    "        with tf.variable_scope('model') as scope:\n",
    "            global_step = tf.Variable(0, name='global_step', trainable=False)\n",
    "            optimizer = tf.train.AdamOptimizer()\n",
    "\n",
    "            x = tf.placeholder('float', [None, 784], name='x')\n",
    "            y = tf.placeholder('float', [None, 10], name='y')\n",
    "\n",
    "            output = inference(x, 0.5)[-1]\n",
    "            cost = loss(output, y)\n",
    "            train = training_no_optimizer(cost, optimizer, global_step)\n",
    "            eva = evaluate(output, y)\n",
    "\n",
    "            summary = tf.summary.merge_all()\n",
    "            saver = tf.train.Saver(max_to_keep=1)\n",
    "            summary_writer = tf.summary.FileWriter(logdir, graph=g)\n",
    "\n",
    "            init = tf.global_variables_initializer()\n",
    "            sess = tf.Session()\n",
    "            sess.run(init)\n",
    "\n",
    "            for epoch in range(epochs):\n",
    "                total_batch = mnist.train.num_examples//batch_size\n",
    "\n",
    "                for i in range(total_batch):\n",
    "                    batch_x, batch_y = mnist.train.next_batch(batch_size)\n",
    "                    sess.run(train, feed_dict={x:batch_x, y:batch_y})\n",
    "\n",
    "                if (epoch+1) % 10 == 0 or epoch == 0:\n",
    "                    train_acc = sess.run(eva, feed_dict={x:mnist.train.images[::10], y:mnist.train.labels[::10]})\n",
    "                    val_acc = sess.run(eva, feed_dict={x:mnist.validation.images, y:mnist.validation.labels})\n",
    "                    print('Epochs:', '%04d'%(epoch+1), 'train_error:', '{:.6f}'.format(1-train_acc), 'val_error:', '{:.6f}'.format(1-val_acc))\n",
    "\n",
    "                summary_str = sess.run(summary, feed_dict={x:batch_x, y:batch_y})\n",
    "                summary_writer.add_summary(summary_str, sess.run(global_step))\n",
    "                saver.save(sess, logdir+'/model-checkpoint', global_step=global_step)\n",
    "\n",
    "            print('Optimization Finished!')\n",
    "\n",
    "            result = sess.run(eva, feed_dict={x:mnist.test.images, y:mnist.test.labels})        \n",
    "            print('Test accuracy', result)"
   ]
  },
  {
   "cell_type": "code",
   "execution_count": 7,
   "metadata": {
    "scrolled": false
   },
   "outputs": [
    {
     "name": "stdout",
     "output_type": "stream",
     "text": [
      "Epochs: 0001 train_error: 0.227636 val_error: 0.214600\n",
      "Epochs: 0010 train_error: 0.004182 val_error: 0.011600\n",
      "Epochs: 0020 train_error: 0.001091 val_error: 0.007800\n",
      "Epochs: 0030 train_error: 0.000909 val_error: 0.011600\n",
      "Epochs: 0040 train_error: 0.000727 val_error: 0.012200\n",
      "Epochs: 0050 train_error: 0.000727 val_error: 0.009000\n",
      "Optimization Finished!\n",
      "Test accuracy 0.989\n"
     ]
    }
   ],
   "source": [
    "run_a_model()"
   ]
  },
  {
   "cell_type": "markdown",
   "metadata": {},
   "source": [
    "## 3. 權重輸出"
   ]
  },
  {
   "cell_type": "markdown",
   "metadata": {},
   "source": [
    "其實理論上的了解一個模型運作, 跟我們真的解剖看到裡面的運作.  \n",
    "這兩者之間真的還是泥雲之別吧, 這邊我們試著把模型各層的輸出都取出來看看.  "
   ]
  },
  {
   "cell_type": "markdown",
   "metadata": {},
   "source": [
    "#### 3.1 模型讀取"
   ]
  },
  {
   "cell_type": "code",
   "execution_count": 8,
   "metadata": {},
   "outputs": [
    {
     "name": "stdout",
     "output_type": "stream",
     "text": [
      "INFO:tensorflow:Restoring parameters from logs/cnn_model\\model-checkpoint-21450\n"
     ]
    }
   ],
   "source": [
    "sess = tf.Session()\n",
    "saver = tf.train.import_meta_graph('logs/cnn_model/model-checkpoint-21450.meta')\n",
    "saver.restore(sess, tf.train.latest_checkpoint('logs/cnn_model'))"
   ]
  },
  {
   "cell_type": "code",
   "execution_count": 9,
   "metadata": {},
   "outputs": [],
   "source": [
    "g = tf.get_default_graph()\n",
    "\n",
    "x = g.get_tensor_by_name('model/x:0')\n",
    "y = g.get_tensor_by_name('model/y:0')"
   ]
  },
  {
   "cell_type": "code",
   "execution_count": 10,
   "metadata": {},
   "outputs": [],
   "source": [
    "feed_dict={x:mnist.test.images, y:mnist.test.labels}"
   ]
  },
  {
   "cell_type": "markdown",
   "metadata": {},
   "source": [
    "上方是我們讀取模型的起手式, 千萬不要忘記啦!  \n",
    "後面我們可能會使用只讀取某部分權重的方式`部分載入模型`.  \n",
    "但是現在模型還很小, 就算全部讀出來也不耗費時空間, 無妨.  "
   ]
  },
  {
   "cell_type": "markdown",
   "metadata": {},
   "source": [
    "#### 3.2 取各層節點輸出"
   ]
  },
  {
   "cell_type": "code",
   "execution_count": 11,
   "metadata": {},
   "outputs": [],
   "source": [
    "# 先定義我們需要拿出的各節點名稱\n",
    "actions = ['model/conv_1/Relu:0',\n",
    "               'model/conv_1/MaxPool:0',\n",
    "               'model/conv_2/Relu:0',\n",
    "               'model/conv_2/MaxPool:0']\n",
    "\n",
    "# 將各節點取出\n",
    "actions = [g.get_tensor_by_name(act) for act in actions]\n",
    "\n",
    "# 再用測試資料拿到各節點輸出\n",
    "actions_output = [sess.run(act, feed_dict) for act in actions]"
   ]
  },
  {
   "cell_type": "markdown",
   "metadata": {},
   "source": [
    "我們可以看一下各節點的輸出, 可以推測一下設計的結構.  \n",
    "首先是只要遇到`conv`層, 通道數會增加, 這是為了能夠用`過濾器`取出更多特徵.  \n",
    "接著是遇到`max pool`層, 圖片會變小, 當然這很明顯是為了降低參數數量.  "
   ]
  },
  {
   "cell_type": "code",
   "execution_count": 12,
   "metadata": {},
   "outputs": [
    {
     "name": "stdout",
     "output_type": "stream",
     "text": [
      "(10000, 28, 28, 16) model/conv_1/Relu:0\n",
      "(10000, 14, 14, 16) model/conv_1/MaxPool:0\n",
      "(10000, 14, 14, 64) model/conv_2/Relu:0\n",
      "(10000, 7, 7, 64) model/conv_2/MaxPool:0\n"
     ]
    }
   ],
   "source": [
    "for idx, act in enumerate(actions_output):\n",
    "    print(act.shape, actions[idx].name)"
   ]
  },
  {
   "cell_type": "markdown",
   "metadata": {},
   "source": [
    "#### 3.3 各類別的索引"
   ]
  },
  {
   "cell_type": "markdown",
   "metadata": {},
   "source": [
    "由於我們想知道各個類別丟進模型後, 到底經過了什麼化學反應.  \n",
    "所以我們要對類別做文章了, 試著將各個類別分開來.  "
   ]
  },
  {
   "cell_type": "code",
   "execution_count": 13,
   "metadata": {},
   "outputs": [],
   "source": [
    "# one hot 格式, 放進 dataframe裡面準備處理\n",
    "labels = pd.DataFrame(mnist.test.labels)\n",
    "\n",
    "# 由於我們知道各 col名稱都是數字 0~9 因此直接乘上去, 就會拿到對應每一格  ex.[0, 0, 0, 0, 0, 0, 0, 0, 9]\n",
    "labels = labels.apply(lambda col: col*col.name)\n",
    "\n",
    "# 這時候我們就可以用 max(axis=1), 這會讓每一個 row 都取最大值, 到此我們就把 one hot 轉成一般的陣列了\n",
    "labels = labels.max(axis=1)\n",
    "\n",
    "# 這邊我們捨棄了groupby的方式, 直接下判斷式, 就可以把對應各個類別的 index 放進各個類別中\n",
    "labels_separate_idx = [labels[labels==i].index for i in range(10)]"
   ]
  },
  {
   "cell_type": "code",
   "execution_count": 14,
   "metadata": {},
   "outputs": [
    {
     "name": "stdout",
     "output_type": "stream",
     "text": [
      "0 980, 1 1135, 2 1032, 3 1010, 4 982, 5 892, 6 958, 7 1028, 8 974, 9 1009, "
     ]
    }
   ],
   "source": [
    "# 稍微檢查一下有沒有錯, 要確定有 0~9 的分類\n",
    "# 由於我們看過資料集, 也可以看一下剛剛的操作是不是有平衡的分出來, 沒有的話一定是哪裡打錯了\n",
    "for idx, label in enumerate(labels_separate_idx):\n",
    "    print(idx, label.size, end=\", \")"
   ]
  },
  {
   "cell_type": "markdown",
   "metadata": {},
   "source": [
    "#### 3.4 畫出輸出"
   ]
  },
  {
   "cell_type": "markdown",
   "metadata": {},
   "source": [
    "最重要的工作反而是最簡單的?  \n",
    "我們做了這麼多瑣碎的小事, 其實最終目的就只有一個:  \n",
    "那就是我們希望看到**`卷積神經網路到底在幹什麼`**.  \n",
    "首先, 我們先回憶一下剛剛的模型.  \n",
    "1. 資料輸入後, 經過一層`conv`來抽取特徵\n",
    "2. 由於資料變多了, 我們丟進`max pool`減少參數\n",
    "3. 接著我們又用`conv`抽取特徵\n",
    "4. 再次的, 使用`max pool`減少參數  \n",
    "\n",
    "於是我們把原始資料跟這四層輸出畫在下面.  "
   ]
  },
  {
   "cell_type": "code",
   "execution_count": 15,
   "metadata": {},
   "outputs": [
    {
     "data": {
      "image/png": "[encoded data removed]",
      "text/plain": [
       "<Figure size 432x288 with 5 Axes>"
      ]
     },
     "metadata": {},
     "output_type": "display_data"
    },
    {
     "data": {
      "image/png": "[encoded data removed]",
      "text/plain": [
       "<Figure size 432x288 with 5 Axes>"
      ]
     },
     "metadata": {},
     "output_type": "display_data"
    },
    {
     "data": {
      "image/png": "[encoded data removed]",
      "text/plain": [
       "<Figure size 432x288 with 5 Axes>"
      ]
     },
     "metadata": {},
     "output_type": "display_data"
    },
    {
     "data": {
      "image/png": "[encoded data removed]",
      "text/plain": [
       "<Figure size 432x288 with 5 Axes>"
      ]
     },
     "metadata": {},
     "output_type": "display_data"
    },
    {
     "data": {
      "image/png": "[encoded data removed]",
      "text/plain": [
       "<Figure size 432x288 with 5 Axes>"
      ]
     },
     "metadata": {},
     "output_type": "display_data"
    },
    {
     "data": {
      "image/png": "[encoded data removed]",
      "text/plain": [
       "<Figure size 432x288 with 5 Axes>"
      ]
     },
     "metadata": {},
     "output_type": "display_data"
    },
    {
     "data": {
      "image/png": "[encoded data removed]",
      "text/plain": [
       "<Figure size 432x288 with 5 Axes>"
      ]
     },
     "metadata": {},
     "output_type": "display_data"
    },
    {
     "data": {
      "image/png": "[encoded data removed]",
      "text/plain": [
       "<Figure size 432x288 with 5 Axes>"
      ]
     },
     "metadata": {},
     "output_type": "display_data"
    },
    {
     "data": {
      "image/png": "[encoded data removed]",
      "text/plain": [
       "<Figure size 432x288 with 5 Axes>"
      ]
     },
     "metadata": {},
     "output_type": "display_data"
    },
    {
     "data": {
      "image/png": "[encoded data removed]",
      "text/plain": [
       "<Figure size 432x288 with 5 Axes>"
      ]
     },
     "metadata": {},
     "output_type": "display_data"
    }
   ],
   "source": [
    "# 我們每個類別都想看, 對吧?\n",
    "for num in range(10):\n",
    "    # 取每個類別第一張圖\n",
    "    idx = labels_separate_idx[num][0]\n",
    "    \n",
    "    # 設定讓 python 橫著畫\n",
    "    fig, axes = plt.subplots(1, 5)\n",
    "\n",
    "    # 畫圖\n",
    "    axes[0].imshow(mnist.test.images[idx].reshape((28,28)))\n",
    "    axes[1].imshow(actions_output[0][idx].max(axis=2))\n",
    "    axes[2].imshow(actions_output[1][idx].max(axis=2))\n",
    "    axes[3].imshow(actions_output[2][idx].max(axis=2))\n",
    "    axes[4].imshow(actions_output[3][idx].max(axis=2))\n",
    "    plt.show()"
   ]
  },
  {
   "cell_type": "markdown",
   "metadata": {},
   "source": [
    "這樣我們就看到啦~~  \n",
    "其實說白話一點, `conv`就是幫我們描邊, 讓資料特徵明顯一點.  \n",
    "接著`max pool`就很明顯啦, 就是把資料收斂, 強迫用更少的資料量表達資料.  \n"
   ]
  },
  {
   "cell_type": "markdown",
   "metadata": {},
   "source": [
    "## 4. 總結\n",
    "  \n",
    "在這邊, 恭喜我們從手寫數字集畢業了~~  \n",
    "如果有從一開始練習到這邊的小夥伴, 應該已經順利的獲得了**`用深度網路處理簡單資料的能力`**.  \n",
    "接下來的內容就要使用其他的數據集了, 畢竟再怎麼樣我們都不可能把手寫數字的準確提升到120%嘛!  "
   ]
  },
  {
   "cell_type": "code",
   "execution_count": null,
   "metadata": {},
   "outputs": [],
   "source": []
  }
 ],
 "metadata": {
  "kernelspec": {
   "display_name": "Python 3",
   "language": "python",
   "name": "python3"
  },
  "language_info": {
   "codemirror_mode": {
    "name": "ipython",
    "version": 3
   },
   "file_extension": ".py",
   "mimetype": "text/x-python",
   "name": "python",
   "nbconvert_exporter": "python",
   "pygments_lexer": "ipython3",
   "version": "3.6.5"
  },
  "toc": {
   "base_numbering": 1,
   "nav_menu": {
    "height": "371px",
    "width": "330px"
   },
   "number_sections": false,
   "sideBar": true,
   "skip_h1_title": false,
   "title_cell": "Table of Contents",
   "title_sidebar": "Contents",
   "toc_cell": false,
   "toc_position": {
    "height": "calc(100% - 180px)",
    "left": "10px",
    "top": "150px",
    "width": "256px"
   },
   "toc_section_display": true,
   "toc_window_display": true
  }
 },
 "nbformat": 4,
 "nbformat_minor": 2
}
